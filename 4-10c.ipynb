{
 "cells": [
  {
   "cell_type": "markdown",
   "id": "96d59237-c723-4a17-a5b6-ba4d4b28ff1b",
   "metadata": {},
   "source": [
    "# 4.10 Part I Task #7-10"
   ]
  },
  {
   "cell_type": "markdown",
   "id": "78b2a82c-e7b7-43c6-aa19-b7629c6536af",
   "metadata": {},
   "source": [
    "This script contains the following points:\n",
    "\n",
    "1. Aggregate the max, mean, and min variables on a customer-profile level for usage frequency and expenditure.\n",
    "2. Compare customer profiles with regions and departments"
   ]
  },
  {
   "cell_type": "code",
   "execution_count": 5,
   "id": "4fbbbb3e-c206-4fdc-9865-06135ff0733a",
   "metadata": {},
   "outputs": [],
   "source": [
    "#Import libraries\n",
    "import pandas as pd\n",
    "import numpy as np\n",
    "import os\n",
    "import matplotlib.pyplot as plt\n",
    "import seaborn as sns\n",
    "import scipy"
   ]
  },
  {
   "cell_type": "code",
   "execution_count": 6,
   "id": "f151aca9-0ae5-494d-9586-e86cb95455ca",
   "metadata": {},
   "outputs": [],
   "source": [
    "#import dataframe\n",
    "path = r'C:\\Users\\Barb\\07-2024 Instacart Basket Analysis'"
   ]
  },
  {
   "cell_type": "code",
   "execution_count": 7,
   "id": "98ab2ab8-d149-47f0-9181-0d6b433444a4",
   "metadata": {},
   "outputs": [],
   "source": [
    "orders_products_dept = pd.read_pickle(os.path.join(path, '02 Data', 'Prepared', 'orders_products_high_dept410b+.pkl'))"
   ]
  },
  {
   "cell_type": "code",
   "execution_count": null,
   "id": "e7542ee5-d90c-44de-856d-1d36a1b11199",
   "metadata": {},
   "outputs": [],
   "source": []
  },
  {
   "cell_type": "code",
   "execution_count": 79,
   "id": "e8e33d44-a96f-47b1-86a8-e60fce1b2511",
   "metadata": {},
   "outputs": [],
   "source": [
    "#check output"
   ]
  },
  {
   "cell_type": "code",
   "execution_count": 9,
   "id": "44694468-ab64-427c-b49f-7eaa2971f869",
   "metadata": {},
   "outputs": [
    {
     "data": {
      "text/plain": [
       "(29303281, 38)"
      ]
     },
     "execution_count": 9,
     "metadata": {},
     "output_type": "execute_result"
    }
   ],
   "source": [
    "orders_products_dept.shape"
   ]
  },
  {
   "cell_type": "code",
   "execution_count": 10,
   "id": "2053f8b3-4ee3-482b-b437-cd327d4c50ae",
   "metadata": {},
   "outputs": [
    {
     "data": {
      "text/html": [
       "<div>\n",
       "<style scoped>\n",
       "    .dataframe tbody tr th:only-of-type {\n",
       "        vertical-align: middle;\n",
       "    }\n",
       "\n",
       "    .dataframe tbody tr th {\n",
       "        vertical-align: top;\n",
       "    }\n",
       "\n",
       "    .dataframe thead th {\n",
       "        text-align: right;\n",
       "    }\n",
       "</style>\n",
       "<table border=\"1\" class=\"dataframe\">\n",
       "  <thead>\n",
       "    <tr style=\"text-align: right;\">\n",
       "      <th></th>\n",
       "      <th>user_id</th>\n",
       "      <th>first_name</th>\n",
       "      <th>last_name</th>\n",
       "      <th>gender</th>\n",
       "      <th>state</th>\n",
       "      <th>age</th>\n",
       "      <th>date_joined</th>\n",
       "      <th>number_of_dependents</th>\n",
       "      <th>marriage_status</th>\n",
       "      <th>income</th>\n",
       "      <th>...</th>\n",
       "      <th>avg_spent</th>\n",
       "      <th>spending_flag</th>\n",
       "      <th>buy_frequency</th>\n",
       "      <th>frequency_flag</th>\n",
       "      <th>region</th>\n",
       "      <th>customer_activity_flag</th>\n",
       "      <th>age_group</th>\n",
       "      <th>income_class</th>\n",
       "      <th>dependents_flag</th>\n",
       "      <th>department</th>\n",
       "    </tr>\n",
       "  </thead>\n",
       "  <tbody>\n",
       "    <tr>\n",
       "      <th>0</th>\n",
       "      <td>26711</td>\n",
       "      <td>Deborah</td>\n",
       "      <td>Esquivel</td>\n",
       "      <td>Female</td>\n",
       "      <td>Missouri</td>\n",
       "      <td>48</td>\n",
       "      <td>1/1/2017</td>\n",
       "      <td>3</td>\n",
       "      <td>married</td>\n",
       "      <td>165665</td>\n",
       "      <td>...</td>\n",
       "      <td>8.205882</td>\n",
       "      <td>Low spender</td>\n",
       "      <td>19.823529</td>\n",
       "      <td>Regular customer</td>\n",
       "      <td>Midwest</td>\n",
       "      <td>high_activity</td>\n",
       "      <td>middle-aged_adult</td>\n",
       "      <td>upper_class</td>\n",
       "      <td>large_family</td>\n",
       "      <td>dairy eggs</td>\n",
       "    </tr>\n",
       "    <tr>\n",
       "      <th>1</th>\n",
       "      <td>26711</td>\n",
       "      <td>Deborah</td>\n",
       "      <td>Esquivel</td>\n",
       "      <td>Female</td>\n",
       "      <td>Missouri</td>\n",
       "      <td>48</td>\n",
       "      <td>1/1/2017</td>\n",
       "      <td>3</td>\n",
       "      <td>married</td>\n",
       "      <td>165665</td>\n",
       "      <td>...</td>\n",
       "      <td>8.205882</td>\n",
       "      <td>Low spender</td>\n",
       "      <td>19.823529</td>\n",
       "      <td>Regular customer</td>\n",
       "      <td>Midwest</td>\n",
       "      <td>high_activity</td>\n",
       "      <td>middle-aged_adult</td>\n",
       "      <td>upper_class</td>\n",
       "      <td>large_family</td>\n",
       "      <td>dairy eggs</td>\n",
       "    </tr>\n",
       "    <tr>\n",
       "      <th>2</th>\n",
       "      <td>26711</td>\n",
       "      <td>Deborah</td>\n",
       "      <td>Esquivel</td>\n",
       "      <td>Female</td>\n",
       "      <td>Missouri</td>\n",
       "      <td>48</td>\n",
       "      <td>1/1/2017</td>\n",
       "      <td>3</td>\n",
       "      <td>married</td>\n",
       "      <td>165665</td>\n",
       "      <td>...</td>\n",
       "      <td>8.205882</td>\n",
       "      <td>Low spender</td>\n",
       "      <td>19.823529</td>\n",
       "      <td>Regular customer</td>\n",
       "      <td>Midwest</td>\n",
       "      <td>high_activity</td>\n",
       "      <td>middle-aged_adult</td>\n",
       "      <td>upper_class</td>\n",
       "      <td>large_family</td>\n",
       "      <td>produce</td>\n",
       "    </tr>\n",
       "    <tr>\n",
       "      <th>3</th>\n",
       "      <td>26711</td>\n",
       "      <td>Deborah</td>\n",
       "      <td>Esquivel</td>\n",
       "      <td>Female</td>\n",
       "      <td>Missouri</td>\n",
       "      <td>48</td>\n",
       "      <td>1/1/2017</td>\n",
       "      <td>3</td>\n",
       "      <td>married</td>\n",
       "      <td>165665</td>\n",
       "      <td>...</td>\n",
       "      <td>8.205882</td>\n",
       "      <td>Low spender</td>\n",
       "      <td>19.823529</td>\n",
       "      <td>Regular customer</td>\n",
       "      <td>Midwest</td>\n",
       "      <td>high_activity</td>\n",
       "      <td>middle-aged_adult</td>\n",
       "      <td>upper_class</td>\n",
       "      <td>large_family</td>\n",
       "      <td>produce</td>\n",
       "    </tr>\n",
       "    <tr>\n",
       "      <th>4</th>\n",
       "      <td>26711</td>\n",
       "      <td>Deborah</td>\n",
       "      <td>Esquivel</td>\n",
       "      <td>Female</td>\n",
       "      <td>Missouri</td>\n",
       "      <td>48</td>\n",
       "      <td>1/1/2017</td>\n",
       "      <td>3</td>\n",
       "      <td>married</td>\n",
       "      <td>165665</td>\n",
       "      <td>...</td>\n",
       "      <td>8.205882</td>\n",
       "      <td>Low spender</td>\n",
       "      <td>19.823529</td>\n",
       "      <td>Regular customer</td>\n",
       "      <td>Midwest</td>\n",
       "      <td>high_activity</td>\n",
       "      <td>middle-aged_adult</td>\n",
       "      <td>upper_class</td>\n",
       "      <td>large_family</td>\n",
       "      <td>dairy eggs</td>\n",
       "    </tr>\n",
       "  </tbody>\n",
       "</table>\n",
       "<p>5 rows × 38 columns</p>\n",
       "</div>"
      ],
      "text/plain": [
       "  user_id first_name last_name  gender     state  age date_joined  \\\n",
       "0   26711    Deborah  Esquivel  Female  Missouri   48    1/1/2017   \n",
       "1   26711    Deborah  Esquivel  Female  Missouri   48    1/1/2017   \n",
       "2   26711    Deborah  Esquivel  Female  Missouri   48    1/1/2017   \n",
       "3   26711    Deborah  Esquivel  Female  Missouri   48    1/1/2017   \n",
       "4   26711    Deborah  Esquivel  Female  Missouri   48    1/1/2017   \n",
       "\n",
       "   number_of_dependents marriage_status  income  ... avg_spent  spending_flag  \\\n",
       "0                     3         married  165665  ...  8.205882    Low spender   \n",
       "1                     3         married  165665  ...  8.205882    Low spender   \n",
       "2                     3         married  165665  ...  8.205882    Low spender   \n",
       "3                     3         married  165665  ...  8.205882    Low spender   \n",
       "4                     3         married  165665  ...  8.205882    Low spender   \n",
       "\n",
       "   buy_frequency    frequency_flag   region  customer_activity_flag  \\\n",
       "0      19.823529  Regular customer  Midwest           high_activity   \n",
       "1      19.823529  Regular customer  Midwest           high_activity   \n",
       "2      19.823529  Regular customer  Midwest           high_activity   \n",
       "3      19.823529  Regular customer  Midwest           high_activity   \n",
       "4      19.823529  Regular customer  Midwest           high_activity   \n",
       "\n",
       "           age_group  income_class dependents_flag  department  \n",
       "0  middle-aged_adult   upper_class    large_family  dairy eggs  \n",
       "1  middle-aged_adult   upper_class    large_family  dairy eggs  \n",
       "2  middle-aged_adult   upper_class    large_family     produce  \n",
       "3  middle-aged_adult   upper_class    large_family     produce  \n",
       "4  middle-aged_adult   upper_class    large_family  dairy eggs  \n",
       "\n",
       "[5 rows x 38 columns]"
      ]
     },
     "execution_count": 10,
     "metadata": {},
     "output_type": "execute_result"
    }
   ],
   "source": [
    "orders_products_dept.head()"
   ]
  },
  {
   "cell_type": "markdown",
   "id": "927536b6-b888-4cc4-8942-b873a58bd654",
   "metadata": {},
   "source": [
    "### Task #7 - Aggregate the max, mean and min variables on a customer-profile level for usage frequency and expenditure. "
   ]
  },
  {
   "cell_type": "markdown",
   "id": "0130915c-352d-4a87-9d2d-ce638622ec18",
   "metadata": {},
   "source": [
    "Usage frequency is analyzed based on days_since_prior order & expenditure based on prices columns. For accuracy, aggregate the data from the orders_products_high DataFrame so that each row represents a single order. "
   ]
  },
  {
   "cell_type": "markdown",
   "id": "e2fdb513-6134-419c-9d11-734130e587b0",
   "metadata": {},
   "source": [
    "#### 7.1 Aggregation - by age_group"
   ]
  },
  {
   "cell_type": "code",
   "execution_count": 14,
   "id": "3f088f1c-714b-45c7-9fa5-e1d8cb09f264",
   "metadata": {
    "scrolled": true
   },
   "outputs": [],
   "source": [
    "# Creating aggregation by age_group for days_since_prior_order & prices\n",
    "age_group_agg = orders_products_dept.groupby('age_group').agg({'days_since_prior_order': ['mean', 'max', 'min'], 'prices':['mean', 'max', 'min']})"
   ]
  },
  {
   "cell_type": "code",
   "execution_count": 15,
   "id": "c9b4277b-05ae-4ea9-b84b-662398d37643",
   "metadata": {},
   "outputs": [
    {
     "name": "stdout",
     "output_type": "stream",
     "text": [
      "                  days_since_prior_order               prices           \n",
      "                                    mean   max  min      mean   max  min\n",
      "age_group                                                               \n",
      "middle-aged_adult              10.810764  30.0  0.0  7.790908  25.0  1.0\n",
      "senior                         10.791879  30.0  0.0  7.796908  25.0  1.0\n",
      "young_adult                    10.838774  30.0  0.0  7.782629  25.0  1.0\n"
     ]
    }
   ],
   "source": [
    "print(age_group_agg)"
   ]
  },
  {
   "cell_type": "markdown",
   "id": "0df52561-f298-4584-bc59-d8b2868dd725",
   "metadata": {},
   "source": [
    "#### 7.2 Aggregation - by income_class"
   ]
  },
  {
   "cell_type": "code",
   "execution_count": 17,
   "id": "11d2c28e-16c3-4da6-ae26-d4465e63468b",
   "metadata": {},
   "outputs": [],
   "source": [
    "# Creating aggregation by income_class for days_since_prior_order & prices\n",
    "income_class_agg = orders_products_dept.groupby('income_class').agg({'days_since_prior_order': ['mean', 'max', 'min'], 'prices':['mean', 'max', 'min']})"
   ]
  },
  {
   "cell_type": "code",
   "execution_count": 18,
   "id": "22cd390e-4564-4ad7-a4e9-0b982a217adf",
   "metadata": {},
   "outputs": [
    {
     "name": "stdout",
     "output_type": "stream",
     "text": [
      "             days_since_prior_order               prices           \n",
      "                               mean   max  min      mean   max  min\n",
      "income_class                                                       \n",
      "lower_class               11.175808  30.0  0.0  6.706619  25.0  1.0\n",
      "middle_class              10.762110  30.0  0.0  7.890089  25.0  1.0\n",
      "upper_class               10.769663  30.0  0.0  7.953395  25.0  1.0\n"
     ]
    }
   ],
   "source": [
    "print(income_class_agg)"
   ]
  },
  {
   "cell_type": "markdown",
   "id": "aee5012b-fb6a-49cd-9b69-db5ae23980aa",
   "metadata": {},
   "source": [
    "#### 7.3 Aggregation - by dependents_flag"
   ]
  },
  {
   "cell_type": "code",
   "execution_count": 20,
   "id": "737a7b7f-0516-4492-8bce-cb8e2dec6646",
   "metadata": {},
   "outputs": [],
   "source": [
    "# Creating aggregation by dependents_flag for days_since_prior_order & prices\n",
    "dependents_flag_agg = orders_products_dept.groupby('dependents_flag').agg({'days_since_prior_order': ['mean', 'max', 'min'], 'prices':['mean', 'max', 'min']})"
   ]
  },
  {
   "cell_type": "code",
   "execution_count": 21,
   "id": "c0dceea7-5553-48e3-9a01-668252433e90",
   "metadata": {},
   "outputs": [
    {
     "name": "stdout",
     "output_type": "stream",
     "text": [
      "                days_since_prior_order               prices           \n",
      "                                  mean   max  min      mean   max  min\n",
      "dependents_flag                                                       \n",
      "large_family                 10.816223  30.0  0.0  7.793450  25.0  1.0\n",
      "no_dependents                10.791951  30.0  0.0  7.790889  25.0  1.0\n",
      "small_family                 10.816513  30.0  0.0  7.790187  25.0  1.0\n"
     ]
    }
   ],
   "source": [
    "print(dependents_flag_agg)"
   ]
  },
  {
   "cell_type": "markdown",
   "id": "b08f173d-e91b-4a64-af88-0457461ce4a0",
   "metadata": {},
   "source": [
    "#### 7.4 Aggregation - by departments"
   ]
  },
  {
   "cell_type": "code",
   "execution_count": 23,
   "id": "6ef9aafa-d13d-4723-bd20-1da075032f04",
   "metadata": {},
   "outputs": [],
   "source": [
    "# Creating aggregation by departments for days_since_prior_order & prices\n",
    "department_agg = orders_products_dept.groupby('income_class').agg({'days_since_prior_order': ['mean', 'max', 'min'], 'prices':['mean', 'max', 'min']})"
   ]
  },
  {
   "cell_type": "code",
   "execution_count": 24,
   "id": "6df85a1c-ec32-4461-b75e-e18c83860496",
   "metadata": {},
   "outputs": [
    {
     "name": "stdout",
     "output_type": "stream",
     "text": [
      "             days_since_prior_order               prices           \n",
      "                               mean   max  min      mean   max  min\n",
      "income_class                                                       \n",
      "lower_class               11.175808  30.0  0.0  6.706619  25.0  1.0\n",
      "middle_class              10.762110  30.0  0.0  7.890089  25.0  1.0\n",
      "upper_class               10.769663  30.0  0.0  7.953395  25.0  1.0\n"
     ]
    }
   ],
   "source": [
    "print(department_agg)"
   ]
  },
  {
   "cell_type": "markdown",
   "id": "dbfa032d-1ebe-4d47-9161-aa78fc3f7ea8",
   "metadata": {},
   "source": [
    "### Task #8 Compare your customer profiles with regions and departments. Can you identify a link between them?\n",
    "### Customers may demonstrate different behaviors across regions, which could make this information important."
   ]
  },
  {
   "cell_type": "markdown",
   "id": "4d5497d4-5840-424e-90aa-f16c3f3ed348",
   "metadata": {},
   "source": [
    "#### 8.1A Crosstab between age_group and region"
   ]
  },
  {
   "cell_type": "code",
   "execution_count": 27,
   "id": "93fc83be-1192-45cd-9689-2a67ee0c1048",
   "metadata": {},
   "outputs": [],
   "source": [
    "# Creating crosstab to compare age_group profile with region locations\n",
    "age_group_region_crosstab=pd.crosstab(orders_products_dept['age_group'], orders_products_dept['region'],dropna=False)"
   ]
  },
  {
   "cell_type": "code",
   "execution_count": 28,
   "id": "8fd1f936-1522-4c17-965e-1fb4ad17b9fa",
   "metadata": {},
   "outputs": [
    {
     "name": "stdout",
     "output_type": "stream",
     "text": [
      "region             Midwest  Northeast    South     West\n",
      "age_group                                              \n",
      "middle-aged_adult  3258736    2407864  4563500  3538937\n",
      "senior             2227640    1712532  3180421  2447871\n",
      "young_adult        1382043    1052465  2012952  1518320\n"
     ]
    }
   ],
   "source": [
    "print(age_group_region_crosstab)"
   ]
  },
  {
   "cell_type": "markdown",
   "id": "d142f4df-6f66-435b-91c6-4cd94de3c6fd",
   "metadata": {},
   "source": [
    "#### 8.1B Crosstab between age_group and department"
   ]
  },
  {
   "cell_type": "code",
   "execution_count": 30,
   "id": "83c01a11-5641-453a-8cc3-26e4f2c03524",
   "metadata": {},
   "outputs": [],
   "source": [
    "# Creating crosstab to compare age_group profile with departments\n",
    "age_group_dept_crosstab=pd.crosstab(orders_products_dept['age_group'], orders_products_dept['department'],dropna=False)"
   ]
  },
  {
   "cell_type": "code",
   "execution_count": 31,
   "id": "d7fe1e1e-b0bc-49d4-b850-90dc6e09d5df",
   "metadata": {
    "scrolled": true
   },
   "outputs": [
    {
     "name": "stdout",
     "output_type": "stream",
     "text": [
      "department         alcohol  babies  bakery  beverages  breakfast   bulk  \\\n",
      "age_group                                                                 \n",
      "middle-aged_adult    63951  184638  499073    1144518     298184  14903   \n",
      "senior               42583  126916  346153     800798     205176  10465   \n",
      "young_adult          28333   80153  215386     492270     130109   6630   \n",
      "\n",
      "department         canned goods  dairy eggs    deli  dry goods pasta  ...  \\\n",
      "age_group                                                             ...   \n",
      "middle-aged_adult        447503     2307808  444763           362824  ...   \n",
      "senior                   310393     1599842  310651           251961  ...   \n",
      "young_adult              196553     1001703  192139           159208  ...   \n",
      "\n",
      "department         household  international  meat seafood  missing  other  \\\n",
      "age_group                                                                   \n",
      "middle-aged_adult     308807         113653        297905    29755  15061   \n",
      "senior                216533          77629        210054    20243  10502   \n",
      "young_adult           133635          49587        129317    13391   7009   \n",
      "\n",
      "department         pantry  personal care   pets  produce   snacks  \n",
      "age_group                                                          \n",
      "middle-aged_adult  791366         188740  40359  4048857  1231935  \n",
      "senior             548691         129312  29001  2812143   852982  \n",
      "young_adult        341334          81687  18445  1747701   535616  \n",
      "\n",
      "[3 rows x 21 columns]\n"
     ]
    }
   ],
   "source": [
    "print(age_group_dept_crosstab)"
   ]
  },
  {
   "cell_type": "markdown",
   "id": "1781c135-c8ab-4985-af20-33c1188ab2de",
   "metadata": {},
   "source": [
    "#### 8.2A Crosstab between income_class and region"
   ]
  },
  {
   "cell_type": "code",
   "execution_count": 33,
   "id": "1ac70e0f-d573-40e1-bea1-74903cd196ff",
   "metadata": {},
   "outputs": [],
   "source": [
    "# Creating crosstab to compare income_class profile with region locations\n",
    "income_class_region_crosstab=pd.crosstab(orders_products_dept['income_class'], orders_products_dept['region'],dropna=False)"
   ]
  },
  {
   "cell_type": "code",
   "execution_count": 34,
   "id": "89b8825c-f333-4cf9-9625-40c1fa22e624",
   "metadata": {},
   "outputs": [
    {
     "name": "stdout",
     "output_type": "stream",
     "text": [
      "region        Midwest  Northeast    South     West\n",
      "income_class                                      \n",
      "lower_class    738407     553112  1077191   799171\n",
      "middle_class  2911000    2237000  4266819  3269711\n",
      "upper_class   3219012    2382749  4412863  3436246\n"
     ]
    }
   ],
   "source": [
    "print(income_class_region_crosstab)"
   ]
  },
  {
   "cell_type": "markdown",
   "id": "4652a263-dca1-4cee-95ee-d0d16ece7f1c",
   "metadata": {},
   "source": [
    "#### 8.2B Crosstab between income_class and departments"
   ]
  },
  {
   "cell_type": "code",
   "execution_count": 36,
   "id": "cb964d9e-3918-464a-a8c7-57087fc568e1",
   "metadata": {},
   "outputs": [],
   "source": [
    "# Creating crosstab to compare income_class profile with departments\n",
    "income_class_dept_crosstab=pd.crosstab(orders_products_dept['income_class'], orders_products_dept['department'],dropna=False)"
   ]
  },
  {
   "cell_type": "code",
   "execution_count": 37,
   "id": "a8227d32-3ebc-4322-8c03-6ccef5a09526",
   "metadata": {},
   "outputs": [
    {
     "name": "stdout",
     "output_type": "stream",
     "text": [
      "department    alcohol  babies  bakery  beverages  breakfast   bulk  \\\n",
      "income_class                                                         \n",
      "lower_class     16535   27761  100470     362278      86246   4470   \n",
      "middle_class    53512  176253  460532    1006944     266220  13904   \n",
      "upper_class     64820  187693  499610    1068364     281003  13624   \n",
      "\n",
      "department    canned goods  dairy eggs    deli  dry goods pasta  ...  \\\n",
      "income_class                                                     ...   \n",
      "lower_class          73729      474043  100049            60011  ...   \n",
      "middle_class        422778     2153276  411012           343999  ...   \n",
      "upper_class         457942     2282034  436492           369983  ...   \n",
      "\n",
      "department    household  international  meat seafood  missing  other  pantry  \\\n",
      "income_class                                                                   \n",
      "lower_class       81790          20245         32086     6387   3654  155589   \n",
      "middle_class     275865         107589        288112    28182  14003  733037   \n",
      "upper_class      301320         113035        317078    28820  14915  792765   \n",
      "\n",
      "department    personal care   pets  produce   snacks  \n",
      "income_class                                          \n",
      "lower_class           44794   8071   779593   529168  \n",
      "middle_class         172739  37031  3810729  1044402  \n",
      "upper_class          182206  42703  4018379  1046963  \n",
      "\n",
      "[3 rows x 21 columns]\n"
     ]
    }
   ],
   "source": [
    "print(income_class_dept_crosstab)"
   ]
  },
  {
   "cell_type": "markdown",
   "id": "ad43fa8f-9d26-412d-a5e9-69a84384c467",
   "metadata": {},
   "source": [
    "#### 8.3A Crosstab between dependents_flag and region"
   ]
  },
  {
   "cell_type": "code",
   "execution_count": 39,
   "id": "f5a1a79e-7646-4790-9abb-5e1bad86886e",
   "metadata": {},
   "outputs": [],
   "source": [
    "# Creating crosstab to compare dependents_flag profile with region locations\n",
    "dependents_flag_region_crosstab=pd.crosstab(orders_products_dept['dependents_flag'], orders_products_dept['region'],dropna=False)"
   ]
  },
  {
   "cell_type": "code",
   "execution_count": 40,
   "id": "d2b5bd07-8b0c-40aa-b1df-1366f96d47b6",
   "metadata": {},
   "outputs": [
    {
     "name": "stdout",
     "output_type": "stream",
     "text": [
      "region           Midwest  Northeast    South     West\n",
      "dependents_flag                                      \n",
      "large_family     1689721    1308364  2447460  1911898\n",
      "no_dependents    1725219    1280745  2442952  1875971\n",
      "small_family     3453479    2583752  4866461  3717259\n"
     ]
    }
   ],
   "source": [
    "print(dependents_flag_region_crosstab)"
   ]
  },
  {
   "cell_type": "markdown",
   "id": "67341094-f839-43ba-9bad-6d87af2ad1a4",
   "metadata": {},
   "source": [
    "#### 8.3B Crosstab between dependents_flag and departments"
   ]
  },
  {
   "cell_type": "code",
   "execution_count": 42,
   "id": "4e831e1c-48dd-4dde-9995-2981755c5076",
   "metadata": {},
   "outputs": [],
   "source": [
    "dependents_flag_dept_crosstab=pd.crosstab(orders_products_dept['dependents_flag'], orders_products_dept['department'],dropna=False)"
   ]
  },
  {
   "cell_type": "code",
   "execution_count": 43,
   "id": "07599a5a-e784-4126-81cb-7315650b40cf",
   "metadata": {},
   "outputs": [
    {
     "name": "stdout",
     "output_type": "stream",
     "text": [
      "department       alcohol  babies  bakery  beverages  breakfast   bulk  \\\n",
      "dependents_flag                                                         \n",
      "large_family       34847   98013  265040     607378     158087   8040   \n",
      "no_dependents      34483   98488  266175     611944     157152   7635   \n",
      "small_family       65537  195206  529397    1218264     318230  16323   \n",
      "\n",
      "department       canned goods  dairy eggs    deli  dry goods pasta  ...  \\\n",
      "dependents_flag                                                     ...   \n",
      "large_family           240579     1229510  238496           196342  ...   \n",
      "no_dependents          236880     1227375  239366           192373  ...   \n",
      "small_family           476990     2452468  469691           385278  ...   \n",
      "\n",
      "department       household  international  meat seafood  missing  other  \\\n",
      "dependents_flag                                                           \n",
      "large_family        165779          59697        162105    16096   7921   \n",
      "no_dependents       161446          60671        156524    15601   8254   \n",
      "small_family        331750         120501        318647    31692  16397   \n",
      "\n",
      "department       pantry  personal care   pets  produce   snacks  \n",
      "dependents_flag                                                  \n",
      "large_family     421154         100257  21863  2169745   655471  \n",
      "no_dependents    418653         100047  22254  2157789   653833  \n",
      "small_family     841584         199435  43688  4281167  1311229  \n",
      "\n",
      "[3 rows x 21 columns]\n"
     ]
    }
   ],
   "source": [
    "print(dependents_flag_dept_crosstab)"
   ]
  },
  {
   "cell_type": "markdown",
   "id": "71d8533c-176b-4a2c-aab9-494d1f6313fe",
   "metadata": {},
   "source": [
    "### Task #9 Export your charts"
   ]
  },
  {
   "cell_type": "markdown",
   "id": "72a1c857-fedb-402d-b1b4-1c3c10152ef1",
   "metadata": {},
   "source": [
    "#### See notebooks 4-10b and 4-10b-Dept"
   ]
  },
  {
   "cell_type": "markdown",
   "id": "1823d010-45d7-4a27-8be3-862fa8b304f6",
   "metadata": {},
   "source": [
    "### Task #10 Export your final data set"
   ]
  },
  {
   "cell_type": "code",
   "execution_count": 47,
   "id": "bb449b31-293d-4098-bf7b-729015bb5174",
   "metadata": {},
   "outputs": [
    {
     "data": {
      "text/plain": [
       "(29303281, 38)"
      ]
     },
     "execution_count": 47,
     "metadata": {},
     "output_type": "execute_result"
    }
   ],
   "source": [
    "# Check shape before exporting\n",
    "orders_products_dept.shape"
   ]
  },
  {
   "cell_type": "code",
   "execution_count": 48,
   "id": "6066eee3-80a9-4a52-b05b-ff3821138352",
   "metadata": {},
   "outputs": [],
   "source": [
    "#Export the updated dataframe as a pickle file\n",
    "orders_products_dept.to_pickle(os.path.join(path, '02 Data', 'Prepared', 'orders_products_final.pkl'))"
   ]
  }
 ],
 "metadata": {
  "kernelspec": {
   "display_name": "Python 3 (ipykernel)",
   "language": "python",
   "name": "python3"
  },
  "language_info": {
   "codemirror_mode": {
    "name": "ipython",
    "version": 3
   },
   "file_extension": ".py",
   "mimetype": "text/x-python",
   "name": "python",
   "nbconvert_exporter": "python",
   "pygments_lexer": "ipython3",
   "version": "3.12.4"
  }
 },
 "nbformat": 4,
 "nbformat_minor": 5
}
