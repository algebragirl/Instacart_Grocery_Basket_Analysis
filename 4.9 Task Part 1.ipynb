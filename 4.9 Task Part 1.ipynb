{
 "cells": [
  {
   "cell_type": "markdown",
   "id": "5850dec7-1d0d-4994-91fc-8e99855d3ea2",
   "metadata": {},
   "source": [
    "# 4.9 Task 1"
   ]
  },
  {
   "cell_type": "markdown",
   "id": "422021b7-e7cd-47e6-91b4-e09f19048773",
   "metadata": {},
   "source": [
    "This script contains the following points:\n",
    "1. Import data and libraries\n",
    "2. Import dataframes\n",
    "3. Check output of df_customers and ords_prods_merge\n",
    "4. Data wrangling of df_customers\n",
    "5. Data consistency checks of df_customers\n",
    "6. Combine df_customers with ords_prods_merge"
   ]
  },
  {
   "cell_type": "code",
   "execution_count": null,
   "id": "c12e9c14-cdf6-4f86-be27-0aa992bf419b",
   "metadata": {},
   "outputs": [],
   "source": []
  },
  {
   "cell_type": "markdown",
   "id": "acc3befb-a010-4122-b694-a02ec4b98e8d",
   "metadata": {},
   "source": [
    "#### Task #3: Import your analysis libraries, as well as your new customer data set as a dataframe"
   ]
  },
  {
   "cell_type": "markdown",
   "id": "9915245c-4b48-4dcf-8ec4-57dc19508ee2",
   "metadata": {},
   "source": [
    "## 1. Import data and libraries"
   ]
  },
  {
   "cell_type": "code",
   "execution_count": 5,
   "id": "886891be-cac3-4594-aea2-a80b2fd62a6d",
   "metadata": {},
   "outputs": [],
   "source": [
    "# Import libraries\n",
    "import pandas as pd\n",
    "import numpy as np\n",
    "import os\n",
    "import matplotlib.pyplot as plt\n",
    "import seaborn as sns\n",
    "import scipy"
   ]
  },
  {
   "cell_type": "markdown",
   "id": "d5782cf8-5e24-45e2-9adb-170e478ee3e7",
   "metadata": {},
   "source": [
    "## 2. Import dataframes"
   ]
  },
  {
   "cell_type": "code",
   "execution_count": 7,
   "id": "3e5848ae-2cb8-4a4c-96f7-18f1f89ee99c",
   "metadata": {},
   "outputs": [],
   "source": [
    "path = r'C:\\Users\\Barb\\07-2024 Instacart Basket Analysis'"
   ]
  },
  {
   "cell_type": "code",
   "execution_count": 8,
   "id": "a37c64d4-ed90-4fc2-9456-29b09ccb6f0b",
   "metadata": {},
   "outputs": [],
   "source": [
    "df_customers = pd.read_csv(os.path.join(path, '02 Data', 'Original', 'customers.csv'), index_col = False)"
   ]
  },
  {
   "cell_type": "code",
   "execution_count": 9,
   "id": "fbc9beab-2fbb-470c-849e-77b03ee93f50",
   "metadata": {},
   "outputs": [],
   "source": [
    "ords_prods_merge = pd.read_pickle(os.path.join(path, '02 Data', 'Prepared', 'ords_prods_merge_4.8.pkl'))"
   ]
  },
  {
   "cell_type": "markdown",
   "id": "d152184f-42e9-4006-a00b-497c851b67c3",
   "metadata": {},
   "source": [
    "## 3. Check output"
   ]
  },
  {
   "cell_type": "code",
   "execution_count": 11,
   "id": "a82bdabd-f946-4e54-ad1c-e6ab866ae709",
   "metadata": {},
   "outputs": [
    {
     "data": {
      "text/plain": [
       "(30328763, 23)"
      ]
     },
     "execution_count": 11,
     "metadata": {},
     "output_type": "execute_result"
    }
   ],
   "source": [
    "ords_prods_merge.shape"
   ]
  },
  {
   "cell_type": "code",
   "execution_count": 12,
   "id": "ceb49f49-513c-4cd3-9080-4383c0b3f1ac",
   "metadata": {},
   "outputs": [
    {
     "data": {
      "text/html": [
       "<div>\n",
       "<style scoped>\n",
       "    .dataframe tbody tr th:only-of-type {\n",
       "        vertical-align: middle;\n",
       "    }\n",
       "\n",
       "    .dataframe tbody tr th {\n",
       "        vertical-align: top;\n",
       "    }\n",
       "\n",
       "    .dataframe thead th {\n",
       "        text-align: right;\n",
       "    }\n",
       "</style>\n",
       "<table border=\"1\" class=\"dataframe\">\n",
       "  <thead>\n",
       "    <tr style=\"text-align: right;\">\n",
       "      <th></th>\n",
       "      <th>order_id</th>\n",
       "      <th>user_id</th>\n",
       "      <th>order_number</th>\n",
       "      <th>orders_day_of_week</th>\n",
       "      <th>hour_time_of_order</th>\n",
       "      <th>days_since_prior_order</th>\n",
       "      <th>product_id</th>\n",
       "      <th>add_to_cart_order</th>\n",
       "      <th>reordered</th>\n",
       "      <th>product_name</th>\n",
       "      <th>...</th>\n",
       "      <th>price_range_loc</th>\n",
       "      <th>busiest_day</th>\n",
       "      <th>busiest_days</th>\n",
       "      <th>busiest_period_of_day</th>\n",
       "      <th>max_order</th>\n",
       "      <th>loyalty_flag</th>\n",
       "      <th>avg_spent</th>\n",
       "      <th>spending_flag</th>\n",
       "      <th>buy_frequency</th>\n",
       "      <th>frequency_flag</th>\n",
       "    </tr>\n",
       "  </thead>\n",
       "  <tbody>\n",
       "    <tr>\n",
       "      <th>0</th>\n",
       "      <td>2398795</td>\n",
       "      <td>1</td>\n",
       "      <td>2</td>\n",
       "      <td>3</td>\n",
       "      <td>7</td>\n",
       "      <td>15.0</td>\n",
       "      <td>196</td>\n",
       "      <td>1</td>\n",
       "      <td>1</td>\n",
       "      <td>Soda</td>\n",
       "      <td>...</td>\n",
       "      <td>NaN</td>\n",
       "      <td>Regularly busy</td>\n",
       "      <td>Slowest days</td>\n",
       "      <td>Average Orders</td>\n",
       "      <td>10</td>\n",
       "      <td>New customer</td>\n",
       "      <td>6.372222</td>\n",
       "      <td>Low spender</td>\n",
       "      <td>20.259259</td>\n",
       "      <td>Non-frequent customer</td>\n",
       "    </tr>\n",
       "    <tr>\n",
       "      <th>1</th>\n",
       "      <td>2398795</td>\n",
       "      <td>1</td>\n",
       "      <td>2</td>\n",
       "      <td>3</td>\n",
       "      <td>7</td>\n",
       "      <td>15.0</td>\n",
       "      <td>10258</td>\n",
       "      <td>2</td>\n",
       "      <td>0</td>\n",
       "      <td>Pistachios</td>\n",
       "      <td>...</td>\n",
       "      <td>Low-range product</td>\n",
       "      <td>Regularly busy</td>\n",
       "      <td>Slowest days</td>\n",
       "      <td>Average Orders</td>\n",
       "      <td>10</td>\n",
       "      <td>New customer</td>\n",
       "      <td>6.372222</td>\n",
       "      <td>Low spender</td>\n",
       "      <td>20.259259</td>\n",
       "      <td>Non-frequent customer</td>\n",
       "    </tr>\n",
       "    <tr>\n",
       "      <th>2</th>\n",
       "      <td>2398795</td>\n",
       "      <td>1</td>\n",
       "      <td>2</td>\n",
       "      <td>3</td>\n",
       "      <td>7</td>\n",
       "      <td>15.0</td>\n",
       "      <td>12427</td>\n",
       "      <td>3</td>\n",
       "      <td>1</td>\n",
       "      <td>Original Beef Jerky</td>\n",
       "      <td>...</td>\n",
       "      <td>Low-range product</td>\n",
       "      <td>Regularly busy</td>\n",
       "      <td>Slowest days</td>\n",
       "      <td>Average Orders</td>\n",
       "      <td>10</td>\n",
       "      <td>New customer</td>\n",
       "      <td>6.372222</td>\n",
       "      <td>Low spender</td>\n",
       "      <td>20.259259</td>\n",
       "      <td>Non-frequent customer</td>\n",
       "    </tr>\n",
       "    <tr>\n",
       "      <th>3</th>\n",
       "      <td>2398795</td>\n",
       "      <td>1</td>\n",
       "      <td>2</td>\n",
       "      <td>3</td>\n",
       "      <td>7</td>\n",
       "      <td>15.0</td>\n",
       "      <td>13176</td>\n",
       "      <td>4</td>\n",
       "      <td>0</td>\n",
       "      <td>Bag of Organic Bananas</td>\n",
       "      <td>...</td>\n",
       "      <td>NaN</td>\n",
       "      <td>Regularly busy</td>\n",
       "      <td>Slowest days</td>\n",
       "      <td>Average Orders</td>\n",
       "      <td>10</td>\n",
       "      <td>New customer</td>\n",
       "      <td>6.372222</td>\n",
       "      <td>Low spender</td>\n",
       "      <td>20.259259</td>\n",
       "      <td>Non-frequent customer</td>\n",
       "    </tr>\n",
       "    <tr>\n",
       "      <th>4</th>\n",
       "      <td>2398795</td>\n",
       "      <td>1</td>\n",
       "      <td>2</td>\n",
       "      <td>3</td>\n",
       "      <td>7</td>\n",
       "      <td>15.0</td>\n",
       "      <td>26088</td>\n",
       "      <td>5</td>\n",
       "      <td>1</td>\n",
       "      <td>Aged White Cheddar Popcorn</td>\n",
       "      <td>...</td>\n",
       "      <td>Low-range product</td>\n",
       "      <td>Regularly busy</td>\n",
       "      <td>Slowest days</td>\n",
       "      <td>Average Orders</td>\n",
       "      <td>10</td>\n",
       "      <td>New customer</td>\n",
       "      <td>6.372222</td>\n",
       "      <td>Low spender</td>\n",
       "      <td>20.259259</td>\n",
       "      <td>Non-frequent customer</td>\n",
       "    </tr>\n",
       "  </tbody>\n",
       "</table>\n",
       "<p>5 rows × 23 columns</p>\n",
       "</div>"
      ],
      "text/plain": [
       "   order_id  user_id  order_number  orders_day_of_week  hour_time_of_order  \\\n",
       "0   2398795        1             2                   3                   7   \n",
       "1   2398795        1             2                   3                   7   \n",
       "2   2398795        1             2                   3                   7   \n",
       "3   2398795        1             2                   3                   7   \n",
       "4   2398795        1             2                   3                   7   \n",
       "\n",
       "   days_since_prior_order  product_id  add_to_cart_order  reordered  \\\n",
       "0                    15.0         196                  1          1   \n",
       "1                    15.0       10258                  2          0   \n",
       "2                    15.0       12427                  3          1   \n",
       "3                    15.0       13176                  4          0   \n",
       "4                    15.0       26088                  5          1   \n",
       "\n",
       "                 product_name  ...    price_range_loc     busiest_day  \\\n",
       "0                        Soda  ...                NaN  Regularly busy   \n",
       "1                  Pistachios  ...  Low-range product  Regularly busy   \n",
       "2         Original Beef Jerky  ...  Low-range product  Regularly busy   \n",
       "3      Bag of Organic Bananas  ...                NaN  Regularly busy   \n",
       "4  Aged White Cheddar Popcorn  ...  Low-range product  Regularly busy   \n",
       "\n",
       "   busiest_days busiest_period_of_day max_order  loyalty_flag avg_spent  \\\n",
       "0  Slowest days        Average Orders        10  New customer  6.372222   \n",
       "1  Slowest days        Average Orders        10  New customer  6.372222   \n",
       "2  Slowest days        Average Orders        10  New customer  6.372222   \n",
       "3  Slowest days        Average Orders        10  New customer  6.372222   \n",
       "4  Slowest days        Average Orders        10  New customer  6.372222   \n",
       "\n",
       "   spending_flag buy_frequency         frequency_flag  \n",
       "0    Low spender     20.259259  Non-frequent customer  \n",
       "1    Low spender     20.259259  Non-frequent customer  \n",
       "2    Low spender     20.259259  Non-frequent customer  \n",
       "3    Low spender     20.259259  Non-frequent customer  \n",
       "4    Low spender     20.259259  Non-frequent customer  \n",
       "\n",
       "[5 rows x 23 columns]"
      ]
     },
     "execution_count": 12,
     "metadata": {},
     "output_type": "execute_result"
    }
   ],
   "source": [
    "ords_prods_merge.head()"
   ]
  },
  {
   "cell_type": "code",
   "execution_count": 13,
   "id": "c51b8265-7561-4b67-9563-fc443e32f752",
   "metadata": {},
   "outputs": [
    {
     "data": {
      "text/plain": [
       "(206209, 10)"
      ]
     },
     "execution_count": 13,
     "metadata": {},
     "output_type": "execute_result"
    }
   ],
   "source": [
    "df_customers.shape"
   ]
  },
  {
   "cell_type": "code",
   "execution_count": 14,
   "id": "034e5f1f-e4dd-4869-ad70-87d994a066e5",
   "metadata": {},
   "outputs": [
    {
     "data": {
      "text/html": [
       "<div>\n",
       "<style scoped>\n",
       "    .dataframe tbody tr th:only-of-type {\n",
       "        vertical-align: middle;\n",
       "    }\n",
       "\n",
       "    .dataframe tbody tr th {\n",
       "        vertical-align: top;\n",
       "    }\n",
       "\n",
       "    .dataframe thead th {\n",
       "        text-align: right;\n",
       "    }\n",
       "</style>\n",
       "<table border=\"1\" class=\"dataframe\">\n",
       "  <thead>\n",
       "    <tr style=\"text-align: right;\">\n",
       "      <th></th>\n",
       "      <th>user_id</th>\n",
       "      <th>First Name</th>\n",
       "      <th>Surnam</th>\n",
       "      <th>Gender</th>\n",
       "      <th>STATE</th>\n",
       "      <th>Age</th>\n",
       "      <th>date_joined</th>\n",
       "      <th>n_dependants</th>\n",
       "      <th>fam_status</th>\n",
       "      <th>income</th>\n",
       "    </tr>\n",
       "  </thead>\n",
       "  <tbody>\n",
       "    <tr>\n",
       "      <th>0</th>\n",
       "      <td>26711</td>\n",
       "      <td>Deborah</td>\n",
       "      <td>Esquivel</td>\n",
       "      <td>Female</td>\n",
       "      <td>Missouri</td>\n",
       "      <td>48</td>\n",
       "      <td>1/1/2017</td>\n",
       "      <td>3</td>\n",
       "      <td>married</td>\n",
       "      <td>165665</td>\n",
       "    </tr>\n",
       "    <tr>\n",
       "      <th>1</th>\n",
       "      <td>33890</td>\n",
       "      <td>Patricia</td>\n",
       "      <td>Hart</td>\n",
       "      <td>Female</td>\n",
       "      <td>New Mexico</td>\n",
       "      <td>36</td>\n",
       "      <td>1/1/2017</td>\n",
       "      <td>0</td>\n",
       "      <td>single</td>\n",
       "      <td>59285</td>\n",
       "    </tr>\n",
       "    <tr>\n",
       "      <th>2</th>\n",
       "      <td>65803</td>\n",
       "      <td>Kenneth</td>\n",
       "      <td>Farley</td>\n",
       "      <td>Male</td>\n",
       "      <td>Idaho</td>\n",
       "      <td>35</td>\n",
       "      <td>1/1/2017</td>\n",
       "      <td>2</td>\n",
       "      <td>married</td>\n",
       "      <td>99568</td>\n",
       "    </tr>\n",
       "    <tr>\n",
       "      <th>3</th>\n",
       "      <td>125935</td>\n",
       "      <td>Michelle</td>\n",
       "      <td>Hicks</td>\n",
       "      <td>Female</td>\n",
       "      <td>Iowa</td>\n",
       "      <td>40</td>\n",
       "      <td>1/1/2017</td>\n",
       "      <td>0</td>\n",
       "      <td>single</td>\n",
       "      <td>42049</td>\n",
       "    </tr>\n",
       "    <tr>\n",
       "      <th>4</th>\n",
       "      <td>130797</td>\n",
       "      <td>Ann</td>\n",
       "      <td>Gilmore</td>\n",
       "      <td>Female</td>\n",
       "      <td>Maryland</td>\n",
       "      <td>26</td>\n",
       "      <td>1/1/2017</td>\n",
       "      <td>1</td>\n",
       "      <td>married</td>\n",
       "      <td>40374</td>\n",
       "    </tr>\n",
       "  </tbody>\n",
       "</table>\n",
       "</div>"
      ],
      "text/plain": [
       "   user_id First Name    Surnam  Gender       STATE  Age date_joined  \\\n",
       "0    26711    Deborah  Esquivel  Female    Missouri   48    1/1/2017   \n",
       "1    33890   Patricia      Hart  Female  New Mexico   36    1/1/2017   \n",
       "2    65803    Kenneth    Farley    Male       Idaho   35    1/1/2017   \n",
       "3   125935   Michelle     Hicks  Female        Iowa   40    1/1/2017   \n",
       "4   130797        Ann   Gilmore  Female    Maryland   26    1/1/2017   \n",
       "\n",
       "   n_dependants fam_status  income  \n",
       "0             3    married  165665  \n",
       "1             0     single   59285  \n",
       "2             2    married   99568  \n",
       "3             0     single   42049  \n",
       "4             1    married   40374  "
      ]
     },
     "execution_count": 14,
     "metadata": {},
     "output_type": "execute_result"
    }
   ],
   "source": [
    "df_customers.head()"
   ]
  },
  {
   "cell_type": "markdown",
   "id": "65318a25-5e24-46b2-989f-f8c4651a41ac",
   "metadata": {},
   "source": [
    "## 4. Data wrangling of df_customers (new df)"
   ]
  },
  {
   "cell_type": "code",
   "execution_count": null,
   "id": "197292b7-5a91-4f8f-8805-f3c78582b3f2",
   "metadata": {},
   "outputs": [],
   "source": []
  },
  {
   "cell_type": "markdown",
   "id": "7f13fe91-6fc5-42be-a985-1522ad055b6a",
   "metadata": {},
   "source": [
    "#### Task #4 Wrangle the data so that is follows consistent logic; for example, rename columns with illogical names and drop columns that don't add anything to your analysis"
   ]
  },
  {
   "cell_type": "code",
   "execution_count": null,
   "id": "cd773b74-2795-4387-9f9a-8e874d91d547",
   "metadata": {},
   "outputs": [],
   "source": []
  },
  {
   "cell_type": "markdown",
   "id": "77f1779b-437c-458f-890b-24ee1b6af750",
   "metadata": {},
   "source": [
    "### 4.1 Rename columns from df_customers with illogical names"
   ]
  },
  {
   "cell_type": "code",
   "execution_count": 18,
   "id": "04db1e68-96ae-462a-a7e2-20bcf0b48e37",
   "metadata": {},
   "outputs": [],
   "source": [
    "#Rename Surnam column\n",
    "df_customers.rename(columns = {'First Name': 'first_name',\n",
    "                               'Surnam': 'last_name',\n",
    "                               'Gender': 'gender',\n",
    "                               'STATE': 'state',\n",
    "                               'Age': 'age',\n",
    "                               'n_dependants': 'number_of_dependents',\n",
    "                              'fam_status': 'marriage_status'},\n",
    "                              inplace = True)"
   ]
  },
  {
   "cell_type": "code",
   "execution_count": 19,
   "id": "e82ce836-868f-42ed-a5ca-787bc9e4669e",
   "metadata": {},
   "outputs": [
    {
     "data": {
      "text/html": [
       "<div>\n",
       "<style scoped>\n",
       "    .dataframe tbody tr th:only-of-type {\n",
       "        vertical-align: middle;\n",
       "    }\n",
       "\n",
       "    .dataframe tbody tr th {\n",
       "        vertical-align: top;\n",
       "    }\n",
       "\n",
       "    .dataframe thead th {\n",
       "        text-align: right;\n",
       "    }\n",
       "</style>\n",
       "<table border=\"1\" class=\"dataframe\">\n",
       "  <thead>\n",
       "    <tr style=\"text-align: right;\">\n",
       "      <th></th>\n",
       "      <th>user_id</th>\n",
       "      <th>first_name</th>\n",
       "      <th>last_name</th>\n",
       "      <th>gender</th>\n",
       "      <th>state</th>\n",
       "      <th>age</th>\n",
       "      <th>date_joined</th>\n",
       "      <th>number_of_dependents</th>\n",
       "      <th>marriage_status</th>\n",
       "      <th>income</th>\n",
       "    </tr>\n",
       "  </thead>\n",
       "  <tbody>\n",
       "    <tr>\n",
       "      <th>0</th>\n",
       "      <td>26711</td>\n",
       "      <td>Deborah</td>\n",
       "      <td>Esquivel</td>\n",
       "      <td>Female</td>\n",
       "      <td>Missouri</td>\n",
       "      <td>48</td>\n",
       "      <td>1/1/2017</td>\n",
       "      <td>3</td>\n",
       "      <td>married</td>\n",
       "      <td>165665</td>\n",
       "    </tr>\n",
       "    <tr>\n",
       "      <th>1</th>\n",
       "      <td>33890</td>\n",
       "      <td>Patricia</td>\n",
       "      <td>Hart</td>\n",
       "      <td>Female</td>\n",
       "      <td>New Mexico</td>\n",
       "      <td>36</td>\n",
       "      <td>1/1/2017</td>\n",
       "      <td>0</td>\n",
       "      <td>single</td>\n",
       "      <td>59285</td>\n",
       "    </tr>\n",
       "    <tr>\n",
       "      <th>2</th>\n",
       "      <td>65803</td>\n",
       "      <td>Kenneth</td>\n",
       "      <td>Farley</td>\n",
       "      <td>Male</td>\n",
       "      <td>Idaho</td>\n",
       "      <td>35</td>\n",
       "      <td>1/1/2017</td>\n",
       "      <td>2</td>\n",
       "      <td>married</td>\n",
       "      <td>99568</td>\n",
       "    </tr>\n",
       "    <tr>\n",
       "      <th>3</th>\n",
       "      <td>125935</td>\n",
       "      <td>Michelle</td>\n",
       "      <td>Hicks</td>\n",
       "      <td>Female</td>\n",
       "      <td>Iowa</td>\n",
       "      <td>40</td>\n",
       "      <td>1/1/2017</td>\n",
       "      <td>0</td>\n",
       "      <td>single</td>\n",
       "      <td>42049</td>\n",
       "    </tr>\n",
       "    <tr>\n",
       "      <th>4</th>\n",
       "      <td>130797</td>\n",
       "      <td>Ann</td>\n",
       "      <td>Gilmore</td>\n",
       "      <td>Female</td>\n",
       "      <td>Maryland</td>\n",
       "      <td>26</td>\n",
       "      <td>1/1/2017</td>\n",
       "      <td>1</td>\n",
       "      <td>married</td>\n",
       "      <td>40374</td>\n",
       "    </tr>\n",
       "  </tbody>\n",
       "</table>\n",
       "</div>"
      ],
      "text/plain": [
       "   user_id first_name last_name  gender       state  age date_joined  \\\n",
       "0    26711    Deborah  Esquivel  Female    Missouri   48    1/1/2017   \n",
       "1    33890   Patricia      Hart  Female  New Mexico   36    1/1/2017   \n",
       "2    65803    Kenneth    Farley    Male       Idaho   35    1/1/2017   \n",
       "3   125935   Michelle     Hicks  Female        Iowa   40    1/1/2017   \n",
       "4   130797        Ann   Gilmore  Female    Maryland   26    1/1/2017   \n",
       "\n",
       "   number_of_dependents marriage_status  income  \n",
       "0                     3         married  165665  \n",
       "1                     0          single   59285  \n",
       "2                     2         married   99568  \n",
       "3                     0          single   42049  \n",
       "4                     1         married   40374  "
      ]
     },
     "execution_count": 19,
     "metadata": {},
     "output_type": "execute_result"
    }
   ],
   "source": [
    "df_customers.head()"
   ]
  },
  {
   "cell_type": "markdown",
   "id": "43e260c0-ab7f-4355-a3cb-2dc151816cce",
   "metadata": {},
   "source": [
    "### 4.2 Drop unnecessary columns from df_customers"
   ]
  },
  {
   "cell_type": "code",
   "execution_count": 21,
   "id": "7fa4bfd8-71a8-4f77-b63f-e3656e0691a3",
   "metadata": {},
   "outputs": [],
   "source": [
    "# No need to drop any columns"
   ]
  },
  {
   "cell_type": "markdown",
   "id": "39c277bd-e1c3-4642-8f14-bc0a798de282",
   "metadata": {},
   "source": [
    "## 5. Data consistency in customers_df?"
   ]
  },
  {
   "cell_type": "markdown",
   "id": "8bb4d8fa-23f8-42d9-a2c4-73fe0ad8ed3c",
   "metadata": {},
   "source": [
    "#### Task #5. Complete the fundamental data quality and consistency checks"
   ]
  },
  {
   "cell_type": "markdown",
   "id": "57cdb6d6-c6f0-4345-baf3-c913b7ec96e4",
   "metadata": {},
   "source": [
    "### 5.1 Mixed-type data in df_customers?"
   ]
  },
  {
   "cell_type": "code",
   "execution_count": 25,
   "id": "1971a5a9-8dc1-41ce-b8c6-0b77458fb6b7",
   "metadata": {},
   "outputs": [
    {
     "name": "stdout",
     "output_type": "stream",
     "text": [
      "first_name\n"
     ]
    }
   ],
   "source": [
    "for col in df_customers.columns.tolist():\n",
    "    weird = (df_customers[[col]].map(type) != df_customers[[col]].iloc[0].apply(type)).any(axis = 1)\n",
    "    if len (df_customers[weird]) > 0:\n",
    "        print(col)    "
   ]
  },
  {
   "cell_type": "markdown",
   "id": "9c101381-b8bd-416f-a7ad-327eb7327a5a",
   "metadata": {},
   "source": [
    "### 5.2 Check data type"
   ]
  },
  {
   "cell_type": "code",
   "execution_count": 27,
   "id": "45ea39e4-81aa-4b77-a44e-af7f21a3a3ae",
   "metadata": {},
   "outputs": [
    {
     "name": "stdout",
     "output_type": "stream",
     "text": [
      "<class 'pandas.core.frame.DataFrame'>\n",
      "RangeIndex: 206209 entries, 0 to 206208\n",
      "Data columns (total 10 columns):\n",
      " #   Column                Non-Null Count   Dtype \n",
      "---  ------                --------------   ----- \n",
      " 0   user_id               206209 non-null  int64 \n",
      " 1   first_name            194950 non-null  object\n",
      " 2   last_name             206209 non-null  object\n",
      " 3   gender                206209 non-null  object\n",
      " 4   state                 206209 non-null  object\n",
      " 5   age                   206209 non-null  int64 \n",
      " 6   date_joined           206209 non-null  object\n",
      " 7   number_of_dependents  206209 non-null  int64 \n",
      " 8   marriage_status       206209 non-null  object\n",
      " 9   income                206209 non-null  int64 \n",
      "dtypes: int64(4), object(6)\n",
      "memory usage: 15.7+ MB\n"
     ]
    }
   ],
   "source": [
    "df_customers.info() #check data type for all columns in df \n",
    "#Mixed-type data occurs when multiple data types exist in the same column."
   ]
  },
  {
   "cell_type": "markdown",
   "id": "f6a64aa3-9c0c-4a7a-9521-e3664d17fb42",
   "metadata": {},
   "source": [
    "#### 5.2.2 Change data type"
   ]
  },
  {
   "cell_type": "code",
   "execution_count": 29,
   "id": "5fb09980-833e-4450-a272-75237b7365c8",
   "metadata": {},
   "outputs": [],
   "source": [
    "#change data type of 'user_id' to a string (or object) - a data type the command decribe() will ignore"
   ]
  },
  {
   "cell_type": "code",
   "execution_count": 30,
   "id": "343a5020-91c6-4083-adde-8deff3ada91a",
   "metadata": {},
   "outputs": [],
   "source": [
    "df_customers['user_id'] = df_customers['user_id'].astype('str')"
   ]
  },
  {
   "cell_type": "code",
   "execution_count": 31,
   "id": "c141b9ca-8c95-4353-b489-b7f1e5a3c1ce",
   "metadata": {
    "scrolled": true
   },
   "outputs": [
    {
     "data": {
      "text/plain": [
       "dtype('O')"
      ]
     },
     "execution_count": 31,
     "metadata": {},
     "output_type": "execute_result"
    }
   ],
   "source": [
    "df_customers['user_id'].dtype"
   ]
  },
  {
   "cell_type": "markdown",
   "id": "2f1f21ac-089e-4463-bbf1-ab89daabc401",
   "metadata": {},
   "source": [
    "### 5.3 Missing Values in customers_df?"
   ]
  },
  {
   "cell_type": "code",
   "execution_count": 33,
   "id": "154238a4-68be-405f-b39d-d707fcc205e3",
   "metadata": {},
   "outputs": [
    {
     "data": {
      "text/plain": [
       "user_id                     0\n",
       "first_name              11259\n",
       "last_name                   0\n",
       "gender                      0\n",
       "state                       0\n",
       "age                         0\n",
       "date_joined                 0\n",
       "number_of_dependents        0\n",
       "marriage_status             0\n",
       "income                      0\n",
       "dtype: int64"
      ]
     },
     "execution_count": 33,
     "metadata": {},
     "output_type": "execute_result"
    }
   ],
   "source": [
    "df_customers.isnull().sum()"
   ]
  },
  {
   "cell_type": "code",
   "execution_count": 34,
   "id": "ae8720d6-c524-48cf-941f-d9fc0fad1673",
   "metadata": {},
   "outputs": [],
   "source": [
    "#Create missing values df (df_nan) to view these 11,259 missing values"
   ]
  },
  {
   "cell_type": "code",
   "execution_count": 35,
   "id": "f22c040f-ad5b-495b-8945-f4dde493133c",
   "metadata": {},
   "outputs": [],
   "source": [
    "df_nan = df_customers[df_customers['first_name'].isnull() == True]"
   ]
  },
  {
   "cell_type": "code",
   "execution_count": 36,
   "id": "9e1d74b9-0eab-4cef-82f8-a1a7563e3143",
   "metadata": {},
   "outputs": [
    {
     "data": {
      "text/html": [
       "<div>\n",
       "<style scoped>\n",
       "    .dataframe tbody tr th:only-of-type {\n",
       "        vertical-align: middle;\n",
       "    }\n",
       "\n",
       "    .dataframe tbody tr th {\n",
       "        vertical-align: top;\n",
       "    }\n",
       "\n",
       "    .dataframe thead th {\n",
       "        text-align: right;\n",
       "    }\n",
       "</style>\n",
       "<table border=\"1\" class=\"dataframe\">\n",
       "  <thead>\n",
       "    <tr style=\"text-align: right;\">\n",
       "      <th></th>\n",
       "      <th>user_id</th>\n",
       "      <th>first_name</th>\n",
       "      <th>last_name</th>\n",
       "      <th>gender</th>\n",
       "      <th>state</th>\n",
       "      <th>age</th>\n",
       "      <th>date_joined</th>\n",
       "      <th>number_of_dependents</th>\n",
       "      <th>marriage_status</th>\n",
       "      <th>income</th>\n",
       "    </tr>\n",
       "  </thead>\n",
       "  <tbody>\n",
       "    <tr>\n",
       "      <th>53</th>\n",
       "      <td>76659</td>\n",
       "      <td>NaN</td>\n",
       "      <td>Gilbert</td>\n",
       "      <td>Male</td>\n",
       "      <td>Colorado</td>\n",
       "      <td>26</td>\n",
       "      <td>1/1/2017</td>\n",
       "      <td>2</td>\n",
       "      <td>married</td>\n",
       "      <td>41709</td>\n",
       "    </tr>\n",
       "    <tr>\n",
       "      <th>73</th>\n",
       "      <td>13738</td>\n",
       "      <td>NaN</td>\n",
       "      <td>Frost</td>\n",
       "      <td>Female</td>\n",
       "      <td>Louisiana</td>\n",
       "      <td>39</td>\n",
       "      <td>1/1/2017</td>\n",
       "      <td>0</td>\n",
       "      <td>single</td>\n",
       "      <td>82518</td>\n",
       "    </tr>\n",
       "    <tr>\n",
       "      <th>82</th>\n",
       "      <td>89996</td>\n",
       "      <td>NaN</td>\n",
       "      <td>Dawson</td>\n",
       "      <td>Female</td>\n",
       "      <td>Oregon</td>\n",
       "      <td>52</td>\n",
       "      <td>1/1/2017</td>\n",
       "      <td>3</td>\n",
       "      <td>married</td>\n",
       "      <td>117099</td>\n",
       "    </tr>\n",
       "    <tr>\n",
       "      <th>99</th>\n",
       "      <td>96166</td>\n",
       "      <td>NaN</td>\n",
       "      <td>Oconnor</td>\n",
       "      <td>Male</td>\n",
       "      <td>Oklahoma</td>\n",
       "      <td>51</td>\n",
       "      <td>1/1/2017</td>\n",
       "      <td>1</td>\n",
       "      <td>married</td>\n",
       "      <td>155673</td>\n",
       "    </tr>\n",
       "    <tr>\n",
       "      <th>105</th>\n",
       "      <td>29778</td>\n",
       "      <td>NaN</td>\n",
       "      <td>Dawson</td>\n",
       "      <td>Female</td>\n",
       "      <td>Utah</td>\n",
       "      <td>63</td>\n",
       "      <td>1/1/2017</td>\n",
       "      <td>3</td>\n",
       "      <td>married</td>\n",
       "      <td>151819</td>\n",
       "    </tr>\n",
       "  </tbody>\n",
       "</table>\n",
       "</div>"
      ],
      "text/plain": [
       "    user_id first_name last_name  gender      state  age date_joined  \\\n",
       "53    76659        NaN   Gilbert    Male   Colorado   26    1/1/2017   \n",
       "73    13738        NaN     Frost  Female  Louisiana   39    1/1/2017   \n",
       "82    89996        NaN    Dawson  Female     Oregon   52    1/1/2017   \n",
       "99    96166        NaN   Oconnor    Male   Oklahoma   51    1/1/2017   \n",
       "105   29778        NaN    Dawson  Female       Utah   63    1/1/2017   \n",
       "\n",
       "     number_of_dependents marriage_status  income  \n",
       "53                      2         married   41709  \n",
       "73                      0          single   82518  \n",
       "82                      3         married  117099  \n",
       "99                      1         married  155673  \n",
       "105                     3         married  151819  "
      ]
     },
     "execution_count": 36,
     "metadata": {},
     "output_type": "execute_result"
    }
   ],
   "source": [
    "df_nan.head()"
   ]
  },
  {
   "cell_type": "markdown",
   "id": "d264e593-3b25-4d6e-a6fd-cd131570bfd7",
   "metadata": {},
   "source": [
    "#### 5.3.1 Removing missing values? Decided not to remove first names"
   ]
  },
  {
   "cell_type": "code",
   "execution_count": 38,
   "id": "50fca606-63fc-4cbd-8fc3-944a7ae46be5",
   "metadata": {},
   "outputs": [],
   "source": [
    "#To check your work, use following equation\n",
    "# (Entire df with Missing values) - (Missing values df - df_nan) = Entire df w/o missing values \n",
    "#1st, find out rows of entire df with missing values NaN\n",
    "#df_customers.shape"
   ]
  },
  {
   "cell_type": "code",
   "execution_count": 39,
   "id": "414c7e7e-8f45-4088-8570-0102ad14ba10",
   "metadata": {},
   "outputs": [],
   "source": [
    "#create a new dataframe w/o the missing values - df_customers_clean"
   ]
  },
  {
   "cell_type": "code",
   "execution_count": 40,
   "id": "51c611be-664c-4b7b-89ee-ad66ead22825",
   "metadata": {},
   "outputs": [],
   "source": [
    "#df_customers_clean = df_customers[df_customers['first_name'].isnull() == False]"
   ]
  },
  {
   "cell_type": "code",
   "execution_count": 41,
   "id": "851e4ed3-4779-4669-b83f-d9f417f086e5",
   "metadata": {},
   "outputs": [],
   "source": [
    "#df_customers_clean.shape"
   ]
  },
  {
   "cell_type": "code",
   "execution_count": null,
   "id": "9a10873c-aa0e-40f9-aee0-b53d932a692d",
   "metadata": {},
   "outputs": [],
   "source": []
  },
  {
   "cell_type": "markdown",
   "id": "2e9514c9-0e72-47b5-aba2-0ee0e526d660",
   "metadata": {},
   "source": [
    "### 5.4 Duplicates in df_customers_clean?"
   ]
  },
  {
   "cell_type": "code",
   "execution_count": 43,
   "id": "2a6b806f-bf47-4d28-83af-4c0aeb6f0903",
   "metadata": {},
   "outputs": [],
   "source": [
    "#ID all full duplicates within your dataframe"
   ]
  },
  {
   "cell_type": "code",
   "execution_count": 44,
   "id": "efba8e11-1e0c-4c5f-aa21-4c8886d7ea2d",
   "metadata": {},
   "outputs": [],
   "source": [
    "#find out # of rows and columns with missing values"
   ]
  },
  {
   "cell_type": "code",
   "execution_count": 45,
   "id": "0e7c9839-31f5-4379-8f94-4df650e33a07",
   "metadata": {},
   "outputs": [],
   "source": [
    "df_dups = df_customers[df_customers.duplicated()]"
   ]
  },
  {
   "cell_type": "code",
   "execution_count": 46,
   "id": "3ad0224c-1bfd-4ae1-87fb-2f7b83f33629",
   "metadata": {},
   "outputs": [
    {
     "data": {
      "text/html": [
       "<div>\n",
       "<style scoped>\n",
       "    .dataframe tbody tr th:only-of-type {\n",
       "        vertical-align: middle;\n",
       "    }\n",
       "\n",
       "    .dataframe tbody tr th {\n",
       "        vertical-align: top;\n",
       "    }\n",
       "\n",
       "    .dataframe thead th {\n",
       "        text-align: right;\n",
       "    }\n",
       "</style>\n",
       "<table border=\"1\" class=\"dataframe\">\n",
       "  <thead>\n",
       "    <tr style=\"text-align: right;\">\n",
       "      <th></th>\n",
       "      <th>user_id</th>\n",
       "      <th>first_name</th>\n",
       "      <th>last_name</th>\n",
       "      <th>gender</th>\n",
       "      <th>state</th>\n",
       "      <th>age</th>\n",
       "      <th>date_joined</th>\n",
       "      <th>number_of_dependents</th>\n",
       "      <th>marriage_status</th>\n",
       "      <th>income</th>\n",
       "    </tr>\n",
       "  </thead>\n",
       "  <tbody>\n",
       "  </tbody>\n",
       "</table>\n",
       "</div>"
      ],
      "text/plain": [
       "Empty DataFrame\n",
       "Columns: [user_id, first_name, last_name, gender, state, age, date_joined, number_of_dependents, marriage_status, income]\n",
       "Index: []"
      ]
     },
     "execution_count": 46,
     "metadata": {},
     "output_type": "execute_result"
    }
   ],
   "source": [
    "df_dups"
   ]
  },
  {
   "cell_type": "markdown",
   "id": "9ba14414-381d-4731-9e71-2b872043406b",
   "metadata": {},
   "source": [
    "#### There are no duplicates in df_customers"
   ]
  },
  {
   "cell_type": "code",
   "execution_count": null,
   "id": "59d60288-fdcb-462d-814f-eaffa2b6cf54",
   "metadata": {},
   "outputs": [],
   "source": []
  },
  {
   "cell_type": "markdown",
   "id": "04b9569e-ff5c-46b4-84a2-2891b1365d0c",
   "metadata": {},
   "source": [
    "## 6. Combine df_customers_clean with ords_prods_merge"
   ]
  },
  {
   "cell_type": "markdown",
   "id": "c9ed55ee-573c-4dad-9eed-a9b76c6b0980",
   "metadata": {},
   "source": [
    "#### Task #6. Combine df_customers_clean w/ rest of your prepared Instacart data. (Hint: make sure key columns are same data type.)"
   ]
  },
  {
   "cell_type": "code",
   "execution_count": null,
   "id": "2a7e7802-245b-427b-8ff9-908ecfc1fa0c",
   "metadata": {},
   "outputs": [],
   "source": []
  },
  {
   "cell_type": "markdown",
   "id": "276378da-b30c-41a2-887b-3e6427dde19e",
   "metadata": {},
   "source": [
    "### 6.1 Make sure 'user_id' is same data type for both df_customers and ords_prods_merge"
   ]
  },
  {
   "cell_type": "code",
   "execution_count": 51,
   "id": "5680ba55-4d10-4ff9-877c-c1987f6b9996",
   "metadata": {},
   "outputs": [],
   "source": [
    "#line 148 - df_customers 'user_id' is object data type"
   ]
  },
  {
   "cell_type": "code",
   "execution_count": 52,
   "id": "f356f5b7-e17a-4ffd-b847-699ebe461dc1",
   "metadata": {},
   "outputs": [],
   "source": [
    "# Find data type of 'user_id' for ords_prods_merge"
   ]
  },
  {
   "cell_type": "code",
   "execution_count": 53,
   "id": "3a7bee85-ece2-47ac-ba20-a09ab301cd9c",
   "metadata": {},
   "outputs": [
    {
     "name": "stdout",
     "output_type": "stream",
     "text": [
      "<class 'pandas.core.frame.DataFrame'>\n",
      "RangeIndex: 30328763 entries, 0 to 30328762\n",
      "Data columns (total 23 columns):\n",
      " #   Column                  Dtype  \n",
      "---  ------                  -----  \n",
      " 0   order_id                int64  \n",
      " 1   user_id                 int64  \n",
      " 2   order_number            int64  \n",
      " 3   orders_day_of_week      int64  \n",
      " 4   hour_time_of_order      int64  \n",
      " 5   days_since_prior_order  float64\n",
      " 6   product_id              int64  \n",
      " 7   add_to_cart_order       int64  \n",
      " 8   reordered               int64  \n",
      " 9   product_name            object \n",
      " 10  aisle_id                int64  \n",
      " 11  department_id           int64  \n",
      " 12  prices                  float64\n",
      " 13  price_range_loc         object \n",
      " 14  busiest_day             object \n",
      " 15  busiest_days            object \n",
      " 16  busiest_period_of_day   object \n",
      " 17  max_order               int64  \n",
      " 18  loyalty_flag            object \n",
      " 19  avg_spent               float64\n",
      " 20  spending_flag           object \n",
      " 21  buy_frequency           float64\n",
      " 22  frequency_flag          object \n",
      "dtypes: float64(4), int64(11), object(8)\n",
      "memory usage: 5.2+ GB\n"
     ]
    }
   ],
   "source": [
    "ords_prods_merge.info()"
   ]
  },
  {
   "cell_type": "code",
   "execution_count": 54,
   "id": "a4693c96-875b-4545-a7a2-a875eb256da5",
   "metadata": {},
   "outputs": [],
   "source": [
    "#change data type of 'order_id' and 'user_id' to a string (or object) - a data type the command decribe() will ignore"
   ]
  },
  {
   "cell_type": "code",
   "execution_count": 55,
   "id": "4b45f909-1d99-47d8-9e76-b0e76f654dc8",
   "metadata": {},
   "outputs": [],
   "source": [
    "ords_prods_merge['order_id'] = ords_prods_merge['order_id'].astype('str')"
   ]
  },
  {
   "cell_type": "code",
   "execution_count": 56,
   "id": "603f96a1-1aa1-4ea8-adc9-c4c952291642",
   "metadata": {},
   "outputs": [],
   "source": [
    "ords_prods_merge['user_id'] = ords_prods_merge['user_id'].astype('str')"
   ]
  },
  {
   "cell_type": "code",
   "execution_count": 57,
   "id": "ac9f029d-ee21-44e6-a3e5-c371fb4719c1",
   "metadata": {},
   "outputs": [
    {
     "name": "stdout",
     "output_type": "stream",
     "text": [
      "<class 'pandas.core.frame.DataFrame'>\n",
      "RangeIndex: 30328763 entries, 0 to 30328762\n",
      "Data columns (total 23 columns):\n",
      " #   Column                  Dtype  \n",
      "---  ------                  -----  \n",
      " 0   order_id                object \n",
      " 1   user_id                 object \n",
      " 2   order_number            int64  \n",
      " 3   orders_day_of_week      int64  \n",
      " 4   hour_time_of_order      int64  \n",
      " 5   days_since_prior_order  float64\n",
      " 6   product_id              int64  \n",
      " 7   add_to_cart_order       int64  \n",
      " 8   reordered               int64  \n",
      " 9   product_name            object \n",
      " 10  aisle_id                int64  \n",
      " 11  department_id           int64  \n",
      " 12  prices                  float64\n",
      " 13  price_range_loc         object \n",
      " 14  busiest_day             object \n",
      " 15  busiest_days            object \n",
      " 16  busiest_period_of_day   object \n",
      " 17  max_order               int64  \n",
      " 18  loyalty_flag            object \n",
      " 19  avg_spent               float64\n",
      " 20  spending_flag           object \n",
      " 21  buy_frequency           float64\n",
      " 22  frequency_flag          object \n",
      "dtypes: float64(4), int64(9), object(10)\n",
      "memory usage: 5.2+ GB\n"
     ]
    }
   ],
   "source": [
    "ords_prods_merge.info()"
   ]
  },
  {
   "cell_type": "markdown",
   "id": "9ca1bedf-8519-445b-86e0-f7c3a826b773",
   "metadata": {},
   "source": [
    "### 6.2 Check for full match in merge"
   ]
  },
  {
   "cell_type": "code",
   "execution_count": 59,
   "id": "fbc33001-a6cb-4b17-8a9b-f32739499125",
   "metadata": {},
   "outputs": [],
   "source": [
    "#Check for full match by using Indicator=True argument"
   ]
  },
  {
   "cell_type": "code",
   "execution_count": 60,
   "id": "eaa228bd-e626-46a4-9749-840d0d571f9d",
   "metadata": {},
   "outputs": [],
   "source": [
    "df_customers_ords_prods_merge = df_customers.merge(ords_prods_merge, on = 'user_id', indicator = True)"
   ]
  },
  {
   "cell_type": "code",
   "execution_count": 61,
   "id": "e42353fd-5ba7-4b39-b29f-0f11d3e7d870",
   "metadata": {},
   "outputs": [
    {
     "data": {
      "text/html": [
       "<div>\n",
       "<style scoped>\n",
       "    .dataframe tbody tr th:only-of-type {\n",
       "        vertical-align: middle;\n",
       "    }\n",
       "\n",
       "    .dataframe tbody tr th {\n",
       "        vertical-align: top;\n",
       "    }\n",
       "\n",
       "    .dataframe thead th {\n",
       "        text-align: right;\n",
       "    }\n",
       "</style>\n",
       "<table border=\"1\" class=\"dataframe\">\n",
       "  <thead>\n",
       "    <tr style=\"text-align: right;\">\n",
       "      <th></th>\n",
       "      <th>user_id</th>\n",
       "      <th>first_name</th>\n",
       "      <th>last_name</th>\n",
       "      <th>gender</th>\n",
       "      <th>state</th>\n",
       "      <th>age</th>\n",
       "      <th>date_joined</th>\n",
       "      <th>number_of_dependents</th>\n",
       "      <th>marriage_status</th>\n",
       "      <th>income</th>\n",
       "      <th>...</th>\n",
       "      <th>busiest_day</th>\n",
       "      <th>busiest_days</th>\n",
       "      <th>busiest_period_of_day</th>\n",
       "      <th>max_order</th>\n",
       "      <th>loyalty_flag</th>\n",
       "      <th>avg_spent</th>\n",
       "      <th>spending_flag</th>\n",
       "      <th>buy_frequency</th>\n",
       "      <th>frequency_flag</th>\n",
       "      <th>_merge</th>\n",
       "    </tr>\n",
       "  </thead>\n",
       "  <tbody>\n",
       "    <tr>\n",
       "      <th>0</th>\n",
       "      <td>26711</td>\n",
       "      <td>Deborah</td>\n",
       "      <td>Esquivel</td>\n",
       "      <td>Female</td>\n",
       "      <td>Missouri</td>\n",
       "      <td>48</td>\n",
       "      <td>1/1/2017</td>\n",
       "      <td>3</td>\n",
       "      <td>married</td>\n",
       "      <td>165665</td>\n",
       "      <td>...</td>\n",
       "      <td>Regularly busy</td>\n",
       "      <td>Regularly busy</td>\n",
       "      <td>Average Orders</td>\n",
       "      <td>8</td>\n",
       "      <td>New customer</td>\n",
       "      <td>8.205882</td>\n",
       "      <td>Low spender</td>\n",
       "      <td>19.823529</td>\n",
       "      <td>Regular customer</td>\n",
       "      <td>both</td>\n",
       "    </tr>\n",
       "    <tr>\n",
       "      <th>1</th>\n",
       "      <td>26711</td>\n",
       "      <td>Deborah</td>\n",
       "      <td>Esquivel</td>\n",
       "      <td>Female</td>\n",
       "      <td>Missouri</td>\n",
       "      <td>48</td>\n",
       "      <td>1/1/2017</td>\n",
       "      <td>3</td>\n",
       "      <td>married</td>\n",
       "      <td>165665</td>\n",
       "      <td>...</td>\n",
       "      <td>Regularly busy</td>\n",
       "      <td>Slowest days</td>\n",
       "      <td>Most Orders</td>\n",
       "      <td>8</td>\n",
       "      <td>New customer</td>\n",
       "      <td>8.205882</td>\n",
       "      <td>Low spender</td>\n",
       "      <td>19.823529</td>\n",
       "      <td>Regular customer</td>\n",
       "      <td>both</td>\n",
       "    </tr>\n",
       "    <tr>\n",
       "      <th>2</th>\n",
       "      <td>26711</td>\n",
       "      <td>Deborah</td>\n",
       "      <td>Esquivel</td>\n",
       "      <td>Female</td>\n",
       "      <td>Missouri</td>\n",
       "      <td>48</td>\n",
       "      <td>1/1/2017</td>\n",
       "      <td>3</td>\n",
       "      <td>married</td>\n",
       "      <td>165665</td>\n",
       "      <td>...</td>\n",
       "      <td>Regularly busy</td>\n",
       "      <td>Slowest days</td>\n",
       "      <td>Most Orders</td>\n",
       "      <td>8</td>\n",
       "      <td>New customer</td>\n",
       "      <td>8.205882</td>\n",
       "      <td>Low spender</td>\n",
       "      <td>19.823529</td>\n",
       "      <td>Regular customer</td>\n",
       "      <td>both</td>\n",
       "    </tr>\n",
       "    <tr>\n",
       "      <th>3</th>\n",
       "      <td>26711</td>\n",
       "      <td>Deborah</td>\n",
       "      <td>Esquivel</td>\n",
       "      <td>Female</td>\n",
       "      <td>Missouri</td>\n",
       "      <td>48</td>\n",
       "      <td>1/1/2017</td>\n",
       "      <td>3</td>\n",
       "      <td>married</td>\n",
       "      <td>165665</td>\n",
       "      <td>...</td>\n",
       "      <td>Regularly busy</td>\n",
       "      <td>Slowest days</td>\n",
       "      <td>Most Orders</td>\n",
       "      <td>8</td>\n",
       "      <td>New customer</td>\n",
       "      <td>8.205882</td>\n",
       "      <td>Low spender</td>\n",
       "      <td>19.823529</td>\n",
       "      <td>Regular customer</td>\n",
       "      <td>both</td>\n",
       "    </tr>\n",
       "    <tr>\n",
       "      <th>4</th>\n",
       "      <td>26711</td>\n",
       "      <td>Deborah</td>\n",
       "      <td>Esquivel</td>\n",
       "      <td>Female</td>\n",
       "      <td>Missouri</td>\n",
       "      <td>48</td>\n",
       "      <td>1/1/2017</td>\n",
       "      <td>3</td>\n",
       "      <td>married</td>\n",
       "      <td>165665</td>\n",
       "      <td>...</td>\n",
       "      <td>Regularly busy</td>\n",
       "      <td>Busiest days</td>\n",
       "      <td>Average Orders</td>\n",
       "      <td>8</td>\n",
       "      <td>New customer</td>\n",
       "      <td>8.205882</td>\n",
       "      <td>Low spender</td>\n",
       "      <td>19.823529</td>\n",
       "      <td>Regular customer</td>\n",
       "      <td>both</td>\n",
       "    </tr>\n",
       "  </tbody>\n",
       "</table>\n",
       "<p>5 rows × 33 columns</p>\n",
       "</div>"
      ],
      "text/plain": [
       "  user_id first_name last_name  gender     state  age date_joined  \\\n",
       "0   26711    Deborah  Esquivel  Female  Missouri   48    1/1/2017   \n",
       "1   26711    Deborah  Esquivel  Female  Missouri   48    1/1/2017   \n",
       "2   26711    Deborah  Esquivel  Female  Missouri   48    1/1/2017   \n",
       "3   26711    Deborah  Esquivel  Female  Missouri   48    1/1/2017   \n",
       "4   26711    Deborah  Esquivel  Female  Missouri   48    1/1/2017   \n",
       "\n",
       "   number_of_dependents marriage_status  income  ...     busiest_day  \\\n",
       "0                     3         married  165665  ...  Regularly busy   \n",
       "1                     3         married  165665  ...  Regularly busy   \n",
       "2                     3         married  165665  ...  Regularly busy   \n",
       "3                     3         married  165665  ...  Regularly busy   \n",
       "4                     3         married  165665  ...  Regularly busy   \n",
       "\n",
       "     busiest_days  busiest_period_of_day  max_order  loyalty_flag  avg_spent  \\\n",
       "0  Regularly busy         Average Orders          8  New customer   8.205882   \n",
       "1    Slowest days            Most Orders          8  New customer   8.205882   \n",
       "2    Slowest days            Most Orders          8  New customer   8.205882   \n",
       "3    Slowest days            Most Orders          8  New customer   8.205882   \n",
       "4    Busiest days         Average Orders          8  New customer   8.205882   \n",
       "\n",
       "   spending_flag  buy_frequency    frequency_flag  _merge  \n",
       "0    Low spender      19.823529  Regular customer    both  \n",
       "1    Low spender      19.823529  Regular customer    both  \n",
       "2    Low spender      19.823529  Regular customer    both  \n",
       "3    Low spender      19.823529  Regular customer    both  \n",
       "4    Low spender      19.823529  Regular customer    both  \n",
       "\n",
       "[5 rows x 33 columns]"
      ]
     },
     "execution_count": 61,
     "metadata": {},
     "output_type": "execute_result"
    }
   ],
   "source": [
    "df_customers_ords_prods_merge.head()"
   ]
  },
  {
   "cell_type": "code",
   "execution_count": null,
   "id": "d4520800-55c9-4355-a761-f12f29dd2024",
   "metadata": {},
   "outputs": [],
   "source": []
  },
  {
   "cell_type": "markdown",
   "id": "92aa6efb-0bea-452e-bf0f-d8283ea44529",
   "metadata": {},
   "source": [
    "#### Task #8. Export this new dataframe as a pickle file"
   ]
  },
  {
   "cell_type": "code",
   "execution_count": 63,
   "id": "615a2a47-0c94-40fc-97e2-300b2831d4b2",
   "metadata": {},
   "outputs": [
    {
     "data": {
      "text/plain": [
       "(30328763, 33)"
      ]
     },
     "execution_count": 63,
     "metadata": {},
     "output_type": "execute_result"
    }
   ],
   "source": [
    "# Check shape before exporting\n",
    "df_customers_ords_prods_merge.shape"
   ]
  },
  {
   "cell_type": "code",
   "execution_count": 64,
   "id": "01e9bde1-1854-4b5f-94e4-92eddeb7118c",
   "metadata": {},
   "outputs": [],
   "source": [
    "#Export the updated dataframe as a pickle file\n",
    "df_customers_ords_prods_merge.to_pickle(os.path.join(path, '02 Data', 'Prepared', 'ords_prods_all.pkl'))"
   ]
  },
  {
   "cell_type": "code",
   "execution_count": null,
   "id": "7e2d8b0d-c22e-4bec-818c-db5047eafac9",
   "metadata": {},
   "outputs": [],
   "source": []
  }
 ],
 "metadata": {
  "kernelspec": {
   "display_name": "Python 3 (ipykernel)",
   "language": "python",
   "name": "python3"
  },
  "language_info": {
   "codemirror_mode": {
    "name": "ipython",
    "version": 3
   },
   "file_extension": ".py",
   "mimetype": "text/x-python",
   "name": "python",
   "nbconvert_exporter": "python",
   "pygments_lexer": "ipython3",
   "version": "3.12.4"
  }
 },
 "nbformat": 4,
 "nbformat_minor": 5
}
