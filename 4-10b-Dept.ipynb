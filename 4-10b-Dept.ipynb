{
 "cells": [
  {
   "cell_type": "markdown",
   "id": "7e758614-3738-4777-8866-1e7149f5efd9",
   "metadata": {},
   "source": [
    "# 4.10 Part I Task #5d"
   ]
  },
  {
   "cell_type": "markdown",
   "id": "cd785c14-1bfd-40ba-a522-a828a24dfcfa",
   "metadata": {},
   "source": [
    "This script contains the following points:\n",
    "\n",
    "1. Create profiling variable based on certain goods in the 'department_id' column\n",
    "    a. Merge departments_wrangled and orders_products_high = order_products_high_dept\n",
    "    b. Show frequency counts of departments\n",
    "2. Export visualization of department bar graph"
   ]
  },
  {
   "cell_type": "code",
   "execution_count": 5,
   "id": "1a03bc65-6665-4718-b0fe-5a56bf305bc3",
   "metadata": {},
   "outputs": [],
   "source": [
    "    # Import libraries\n",
    "import pandas as pd\n",
    "import numpy as np\n",
    "import os\n",
    "import matplotlib.pyplot as plt\n",
    "import seaborn as sns\n",
    "import scipy"
   ]
  },
  {
   "cell_type": "code",
   "execution_count": 6,
   "id": "2420640d-1c40-4ca3-b7e3-98cb4e0af6d6",
   "metadata": {},
   "outputs": [],
   "source": [
    "      #Import dataframe\n",
    "path = r'C:\\Users\\Barb\\07-2024 Instacart Basket Analysis'"
   ]
  },
  {
   "cell_type": "code",
   "execution_count": 7,
   "id": "29d6a4e0-8d44-4e18-af01-1c64f530b8b6",
   "metadata": {
    "scrolled": true
   },
   "outputs": [],
   "source": [
    "orders_products_high = pd.read_pickle(os.path.join(path, '02 Data', 'Prepared', 'orders_products_high_410b.pkl'))"
   ]
  },
  {
   "cell_type": "code",
   "execution_count": 8,
   "id": "fc3efad1-9097-4bcc-91b6-d33ce2801a98",
   "metadata": {},
   "outputs": [],
   "source": [
    "     #Check output"
   ]
  },
  {
   "cell_type": "code",
   "execution_count": 9,
   "id": "d1b27b87-3dc1-4875-8a3c-1c09d6becd57",
   "metadata": {},
   "outputs": [
    {
     "data": {
      "text/plain": [
       "(29303281, 38)"
      ]
     },
     "execution_count": 9,
     "metadata": {},
     "output_type": "execute_result"
    }
   ],
   "source": [
    "orders_products_high.shape"
   ]
  },
  {
   "cell_type": "code",
   "execution_count": 10,
   "id": "fef12c71-eaf8-4cf7-abb5-bc43b0845743",
   "metadata": {},
   "outputs": [
    {
     "data": {
      "text/html": [
       "<div>\n",
       "<style scoped>\n",
       "    .dataframe tbody tr th:only-of-type {\n",
       "        vertical-align: middle;\n",
       "    }\n",
       "\n",
       "    .dataframe tbody tr th {\n",
       "        vertical-align: top;\n",
       "    }\n",
       "\n",
       "    .dataframe thead th {\n",
       "        text-align: right;\n",
       "    }\n",
       "</style>\n",
       "<table border=\"1\" class=\"dataframe\">\n",
       "  <thead>\n",
       "    <tr style=\"text-align: right;\">\n",
       "      <th></th>\n",
       "      <th>user_id</th>\n",
       "      <th>first_name</th>\n",
       "      <th>last_name</th>\n",
       "      <th>gender</th>\n",
       "      <th>state</th>\n",
       "      <th>age</th>\n",
       "      <th>date_joined</th>\n",
       "      <th>number_of_dependents</th>\n",
       "      <th>marriage_status</th>\n",
       "      <th>income</th>\n",
       "      <th>...</th>\n",
       "      <th>avg_spent</th>\n",
       "      <th>spending_flag</th>\n",
       "      <th>buy_frequency</th>\n",
       "      <th>frequency_flag</th>\n",
       "      <th>_merge</th>\n",
       "      <th>region</th>\n",
       "      <th>customer_activity_flag</th>\n",
       "      <th>age_group</th>\n",
       "      <th>income_class</th>\n",
       "      <th>dependents_flag</th>\n",
       "    </tr>\n",
       "  </thead>\n",
       "  <tbody>\n",
       "    <tr>\n",
       "      <th>0</th>\n",
       "      <td>26711</td>\n",
       "      <td>Deborah</td>\n",
       "      <td>Esquivel</td>\n",
       "      <td>Female</td>\n",
       "      <td>Missouri</td>\n",
       "      <td>48</td>\n",
       "      <td>1/1/2017</td>\n",
       "      <td>3</td>\n",
       "      <td>married</td>\n",
       "      <td>165665</td>\n",
       "      <td>...</td>\n",
       "      <td>8.205882</td>\n",
       "      <td>Low spender</td>\n",
       "      <td>19.823529</td>\n",
       "      <td>Regular customer</td>\n",
       "      <td>both</td>\n",
       "      <td>Midwest</td>\n",
       "      <td>high_activity</td>\n",
       "      <td>middle-aged_adult</td>\n",
       "      <td>upper_class</td>\n",
       "      <td>large_family</td>\n",
       "    </tr>\n",
       "    <tr>\n",
       "      <th>1</th>\n",
       "      <td>26711</td>\n",
       "      <td>Deborah</td>\n",
       "      <td>Esquivel</td>\n",
       "      <td>Female</td>\n",
       "      <td>Missouri</td>\n",
       "      <td>48</td>\n",
       "      <td>1/1/2017</td>\n",
       "      <td>3</td>\n",
       "      <td>married</td>\n",
       "      <td>165665</td>\n",
       "      <td>...</td>\n",
       "      <td>8.205882</td>\n",
       "      <td>Low spender</td>\n",
       "      <td>19.823529</td>\n",
       "      <td>Regular customer</td>\n",
       "      <td>both</td>\n",
       "      <td>Midwest</td>\n",
       "      <td>high_activity</td>\n",
       "      <td>middle-aged_adult</td>\n",
       "      <td>upper_class</td>\n",
       "      <td>large_family</td>\n",
       "    </tr>\n",
       "    <tr>\n",
       "      <th>2</th>\n",
       "      <td>26711</td>\n",
       "      <td>Deborah</td>\n",
       "      <td>Esquivel</td>\n",
       "      <td>Female</td>\n",
       "      <td>Missouri</td>\n",
       "      <td>48</td>\n",
       "      <td>1/1/2017</td>\n",
       "      <td>3</td>\n",
       "      <td>married</td>\n",
       "      <td>165665</td>\n",
       "      <td>...</td>\n",
       "      <td>8.205882</td>\n",
       "      <td>Low spender</td>\n",
       "      <td>19.823529</td>\n",
       "      <td>Regular customer</td>\n",
       "      <td>both</td>\n",
       "      <td>Midwest</td>\n",
       "      <td>high_activity</td>\n",
       "      <td>middle-aged_adult</td>\n",
       "      <td>upper_class</td>\n",
       "      <td>large_family</td>\n",
       "    </tr>\n",
       "    <tr>\n",
       "      <th>3</th>\n",
       "      <td>26711</td>\n",
       "      <td>Deborah</td>\n",
       "      <td>Esquivel</td>\n",
       "      <td>Female</td>\n",
       "      <td>Missouri</td>\n",
       "      <td>48</td>\n",
       "      <td>1/1/2017</td>\n",
       "      <td>3</td>\n",
       "      <td>married</td>\n",
       "      <td>165665</td>\n",
       "      <td>...</td>\n",
       "      <td>8.205882</td>\n",
       "      <td>Low spender</td>\n",
       "      <td>19.823529</td>\n",
       "      <td>Regular customer</td>\n",
       "      <td>both</td>\n",
       "      <td>Midwest</td>\n",
       "      <td>high_activity</td>\n",
       "      <td>middle-aged_adult</td>\n",
       "      <td>upper_class</td>\n",
       "      <td>large_family</td>\n",
       "    </tr>\n",
       "    <tr>\n",
       "      <th>4</th>\n",
       "      <td>26711</td>\n",
       "      <td>Deborah</td>\n",
       "      <td>Esquivel</td>\n",
       "      <td>Female</td>\n",
       "      <td>Missouri</td>\n",
       "      <td>48</td>\n",
       "      <td>1/1/2017</td>\n",
       "      <td>3</td>\n",
       "      <td>married</td>\n",
       "      <td>165665</td>\n",
       "      <td>...</td>\n",
       "      <td>8.205882</td>\n",
       "      <td>Low spender</td>\n",
       "      <td>19.823529</td>\n",
       "      <td>Regular customer</td>\n",
       "      <td>both</td>\n",
       "      <td>Midwest</td>\n",
       "      <td>high_activity</td>\n",
       "      <td>middle-aged_adult</td>\n",
       "      <td>upper_class</td>\n",
       "      <td>large_family</td>\n",
       "    </tr>\n",
       "  </tbody>\n",
       "</table>\n",
       "<p>5 rows × 38 columns</p>\n",
       "</div>"
      ],
      "text/plain": [
       "  user_id first_name last_name  gender     state  age date_joined  \\\n",
       "0   26711    Deborah  Esquivel  Female  Missouri   48    1/1/2017   \n",
       "1   26711    Deborah  Esquivel  Female  Missouri   48    1/1/2017   \n",
       "2   26711    Deborah  Esquivel  Female  Missouri   48    1/1/2017   \n",
       "3   26711    Deborah  Esquivel  Female  Missouri   48    1/1/2017   \n",
       "4   26711    Deborah  Esquivel  Female  Missouri   48    1/1/2017   \n",
       "\n",
       "   number_of_dependents marriage_status  income  ... avg_spent  spending_flag  \\\n",
       "0                     3         married  165665  ...  8.205882    Low spender   \n",
       "1                     3         married  165665  ...  8.205882    Low spender   \n",
       "2                     3         married  165665  ...  8.205882    Low spender   \n",
       "3                     3         married  165665  ...  8.205882    Low spender   \n",
       "4                     3         married  165665  ...  8.205882    Low spender   \n",
       "\n",
       "   buy_frequency    frequency_flag  _merge   region  customer_activity_flag  \\\n",
       "0      19.823529  Regular customer    both  Midwest           high_activity   \n",
       "1      19.823529  Regular customer    both  Midwest           high_activity   \n",
       "2      19.823529  Regular customer    both  Midwest           high_activity   \n",
       "3      19.823529  Regular customer    both  Midwest           high_activity   \n",
       "4      19.823529  Regular customer    both  Midwest           high_activity   \n",
       "\n",
       "           age_group income_class  dependents_flag  \n",
       "0  middle-aged_adult  upper_class     large_family  \n",
       "1  middle-aged_adult  upper_class     large_family  \n",
       "2  middle-aged_adult  upper_class     large_family  \n",
       "3  middle-aged_adult  upper_class     large_family  \n",
       "4  middle-aged_adult  upper_class     large_family  \n",
       "\n",
       "[5 rows x 38 columns]"
      ]
     },
     "execution_count": 10,
     "metadata": {},
     "output_type": "execute_result"
    }
   ],
   "source": [
    "orders_products_high.head()"
   ]
  },
  {
   "cell_type": "markdown",
   "id": "29ada5aa-7559-41f8-a49c-52eb949b3a91",
   "metadata": {},
   "source": [
    "## Task #5 - Create profiling variable based on certain goods in the \"department_id\" column "
   ]
  },
  {
   "cell_type": "markdown",
   "id": "3b877c15-6c47-4afa-8ca2-28ea9523a8f0",
   "metadata": {},
   "source": [
    "### 5.4 Customer profile:  certain goods in the 'department_id' column"
   ]
  },
  {
   "cell_type": "markdown",
   "id": "ba40742f-32a8-49c0-a3e2-560bb9bfbcef",
   "metadata": {},
   "source": [
    "#### 5.4.1 Assess if orders_products_high has necessary columns (e.g. 'department)"
   ]
  },
  {
   "cell_type": "markdown",
   "id": "6970cc26-e559-470c-9930-2024b43881da",
   "metadata": {},
   "source": [
    "     #Check columns in orders_products_high"
   ]
  },
  {
   "cell_type": "code",
   "execution_count": 15,
   "id": "59322346-27a8-4886-89c7-349ebbade95b",
   "metadata": {},
   "outputs": [
    {
     "data": {
      "text/plain": [
       "Index(['user_id', 'first_name', 'last_name', 'gender', 'state', 'age',\n",
       "       'date_joined', 'number_of_dependents', 'marriage_status', 'income',\n",
       "       'order_id', 'order_number', 'orders_day_of_week', 'hour_time_of_order',\n",
       "       'days_since_prior_order', 'product_id', 'add_to_cart_order',\n",
       "       'reordered', 'product_name', 'aisle_id', 'department_id', 'prices',\n",
       "       'price_range_loc', 'busiest_day', 'busiest_days',\n",
       "       'busiest_period_of_day', 'max_order', 'loyalty_flag', 'avg_spent',\n",
       "       'spending_flag', 'buy_frequency', 'frequency_flag', '_merge', 'region',\n",
       "       'customer_activity_flag', 'age_group', 'income_class',\n",
       "       'dependents_flag'],\n",
       "      dtype='object')"
      ]
     },
     "execution_count": 15,
     "metadata": {},
     "output_type": "execute_result"
    }
   ],
   "source": [
    "orders_products_high.columns"
   ]
  },
  {
   "cell_type": "code",
   "execution_count": null,
   "id": "53e1ca2c-6af3-41bf-ba6e-9cc6a97f5185",
   "metadata": {},
   "outputs": [],
   "source": []
  },
  {
   "cell_type": "markdown",
   "id": "35525e0a-2617-4523-9d3a-f7db54680a5d",
   "metadata": {},
   "source": [
    "      #drop _merge column"
   ]
  },
  {
   "cell_type": "code",
   "execution_count": 17,
   "id": "38014351-7e0c-47bb-b232-4a5da8892dec",
   "metadata": {},
   "outputs": [],
   "source": [
    "orders_products_high = orders_products_high.drop(columns = ['_merge'])"
   ]
  },
  {
   "cell_type": "code",
   "execution_count": 18,
   "id": "b7f9e6d0-dadf-44a1-a2e4-a9aaf87a76a0",
   "metadata": {},
   "outputs": [],
   "source": [
    "#No 'department' column in orders_products_high"
   ]
  },
  {
   "cell_type": "markdown",
   "id": "23c8f4c9-305d-4bf9-8884-f7a422303307",
   "metadata": {},
   "source": [
    "      #Import departments_wrangled.csv because it has 'department_id' and 'department'"
   ]
  },
  {
   "cell_type": "code",
   "execution_count": 20,
   "id": "f0e4b887-631d-403d-a4c1-1b38c781e8d4",
   "metadata": {},
   "outputs": [],
   "source": [
    "df_dept = pd.read_csv(os.path.join(path, '02 Data', 'Prepared', 'departments_wrangled.csv'))"
   ]
  },
  {
   "cell_type": "markdown",
   "id": "f08a9316-0705-4997-9aba-e5eb5eeb77b3",
   "metadata": {},
   "source": [
    "        #check output of df_dept"
   ]
  },
  {
   "cell_type": "code",
   "execution_count": 22,
   "id": "fde9c816-4126-49d8-a9e6-7c5aa7a1de7b",
   "metadata": {},
   "outputs": [
    {
     "data": {
      "text/plain": [
       "(21, 2)"
      ]
     },
     "execution_count": 22,
     "metadata": {},
     "output_type": "execute_result"
    }
   ],
   "source": [
    "df_dept.shape"
   ]
  },
  {
   "cell_type": "code",
   "execution_count": 23,
   "id": "af2728d9-9a1c-4c61-8d41-8b748a467d53",
   "metadata": {},
   "outputs": [
    {
     "data": {
      "text/html": [
       "<div>\n",
       "<style scoped>\n",
       "    .dataframe tbody tr th:only-of-type {\n",
       "        vertical-align: middle;\n",
       "    }\n",
       "\n",
       "    .dataframe tbody tr th {\n",
       "        vertical-align: top;\n",
       "    }\n",
       "\n",
       "    .dataframe thead th {\n",
       "        text-align: right;\n",
       "    }\n",
       "</style>\n",
       "<table border=\"1\" class=\"dataframe\">\n",
       "  <thead>\n",
       "    <tr style=\"text-align: right;\">\n",
       "      <th></th>\n",
       "      <th>department_id</th>\n",
       "      <th>department</th>\n",
       "    </tr>\n",
       "  </thead>\n",
       "  <tbody>\n",
       "    <tr>\n",
       "      <th>0</th>\n",
       "      <td>1</td>\n",
       "      <td>frozen</td>\n",
       "    </tr>\n",
       "    <tr>\n",
       "      <th>1</th>\n",
       "      <td>2</td>\n",
       "      <td>other</td>\n",
       "    </tr>\n",
       "    <tr>\n",
       "      <th>2</th>\n",
       "      <td>3</td>\n",
       "      <td>bakery</td>\n",
       "    </tr>\n",
       "    <tr>\n",
       "      <th>3</th>\n",
       "      <td>4</td>\n",
       "      <td>produce</td>\n",
       "    </tr>\n",
       "    <tr>\n",
       "      <th>4</th>\n",
       "      <td>5</td>\n",
       "      <td>alcohol</td>\n",
       "    </tr>\n",
       "  </tbody>\n",
       "</table>\n",
       "</div>"
      ],
      "text/plain": [
       "   department_id department\n",
       "0              1     frozen\n",
       "1              2      other\n",
       "2              3     bakery\n",
       "3              4    produce\n",
       "4              5    alcohol"
      ]
     },
     "execution_count": 23,
     "metadata": {},
     "output_type": "execute_result"
    }
   ],
   "source": [
    "df_dept.head()"
   ]
  },
  {
   "cell_type": "code",
   "execution_count": null,
   "id": "d0333550-9b5d-4d96-8f66-f46d1f49b5ee",
   "metadata": {},
   "outputs": [],
   "source": []
  },
  {
   "cell_type": "markdown",
   "id": "a7b2bdf1-9d18-433a-a6cb-c71b7877b334",
   "metadata": {},
   "source": [
    "#### 5.4.2 Prepare for merge"
   ]
  },
  {
   "cell_type": "markdown",
   "id": "72a39240-b28d-4477-86ad-fa3e80dc63dc",
   "metadata": {},
   "source": [
    "                       #check data type of 'department_id' in both dataframes df_dept"
   ]
  },
  {
   "cell_type": "code",
   "execution_count": 26,
   "id": "3bda10b1-f3a8-4cf9-aa6e-6c5bea93d254",
   "metadata": {},
   "outputs": [
    {
     "name": "stdout",
     "output_type": "stream",
     "text": [
      "<class 'pandas.core.frame.DataFrame'>\n",
      "RangeIndex: 21 entries, 0 to 20\n",
      "Data columns (total 2 columns):\n",
      " #   Column         Non-Null Count  Dtype \n",
      "---  ------         --------------  ----- \n",
      " 0   department_id  21 non-null     int64 \n",
      " 1   department     21 non-null     object\n",
      "dtypes: int64(1), object(1)\n",
      "memory usage: 468.0+ bytes\n"
     ]
    }
   ],
   "source": [
    "#check data type in df_dept\n",
    "df_dept.info()"
   ]
  },
  {
   "cell_type": "code",
   "execution_count": 27,
   "id": "58406191-5331-4d05-8908-6c920ac8ef2b",
   "metadata": {},
   "outputs": [
    {
     "data": {
      "text/plain": [
       "dtype('int64')"
      ]
     },
     "execution_count": 27,
     "metadata": {},
     "output_type": "execute_result"
    }
   ],
   "source": [
    "#check data type in orders_products_high\n",
    "orders_products_high['department_id'].dtype"
   ]
  },
  {
   "cell_type": "markdown",
   "id": "9f2d9bcb-9d8d-44a8-84eb-543a4c61766c",
   "metadata": {},
   "source": [
    "         #change data type"
   ]
  },
  {
   "cell_type": "code",
   "execution_count": 29,
   "id": "b392c96a-42bc-440d-b3df-8d6645050d2a",
   "metadata": {},
   "outputs": [],
   "source": [
    "orders_products_high['department_id'] = orders_products_high['department_id'].astype('str')"
   ]
  },
  {
   "cell_type": "code",
   "execution_count": 30,
   "id": "523b08e2-f93c-4595-952d-76e35875d9cd",
   "metadata": {},
   "outputs": [],
   "source": [
    "df_dept['department_id'] = df_dept['department_id'].astype('str')"
   ]
  },
  {
   "cell_type": "code",
   "execution_count": 31,
   "id": "69861ae1-61a1-4a28-9b0c-cee8b86beb52",
   "metadata": {},
   "outputs": [
    {
     "data": {
      "text/plain": [
       "dtype('O')"
      ]
     },
     "execution_count": 31,
     "metadata": {},
     "output_type": "execute_result"
    }
   ],
   "source": [
    "#check\n",
    "orders_products_high['department_id'].dtype"
   ]
  },
  {
   "cell_type": "code",
   "execution_count": 32,
   "id": "820afde4-7eaa-47c9-946c-00cf5a89a40f",
   "metadata": {},
   "outputs": [
    {
     "data": {
      "text/plain": [
       "dtype('O')"
      ]
     },
     "execution_count": 32,
     "metadata": {},
     "output_type": "execute_result"
    }
   ],
   "source": [
    "#check\n",
    "df_dept['department_id'].dtype"
   ]
  },
  {
   "cell_type": "markdown",
   "id": "10db4a91-9a83-4819-95d2-96b87405e4d5",
   "metadata": {},
   "source": [
    "#### 5.4.3 Merge orders_products_high and df_dept"
   ]
  },
  {
   "cell_type": "code",
   "execution_count": 34,
   "id": "77b17742-55b6-4648-be96-acf79a217282",
   "metadata": {
    "scrolled": true
   },
   "outputs": [],
   "source": [
    "orders_products_high_dept = orders_products_high.merge(df_dept, on = 'department_id')"
   ]
  },
  {
   "cell_type": "markdown",
   "id": "1d7be656-9f18-4981-afb3-e9b4d2ca9cdc",
   "metadata": {},
   "source": [
    "        #Confirm the results of the merge using the merge flag (or 'merge' column)"
   ]
  },
  {
   "cell_type": "code",
   "execution_count": 36,
   "id": "89613861-6201-4651-bc21-c16f98a43342",
   "metadata": {},
   "outputs": [
    {
     "data": {
      "text/html": [
       "<div>\n",
       "<style scoped>\n",
       "    .dataframe tbody tr th:only-of-type {\n",
       "        vertical-align: middle;\n",
       "    }\n",
       "\n",
       "    .dataframe tbody tr th {\n",
       "        vertical-align: top;\n",
       "    }\n",
       "\n",
       "    .dataframe thead th {\n",
       "        text-align: right;\n",
       "    }\n",
       "</style>\n",
       "<table border=\"1\" class=\"dataframe\">\n",
       "  <thead>\n",
       "    <tr style=\"text-align: right;\">\n",
       "      <th></th>\n",
       "      <th>user_id</th>\n",
       "      <th>first_name</th>\n",
       "      <th>last_name</th>\n",
       "      <th>gender</th>\n",
       "      <th>state</th>\n",
       "      <th>age</th>\n",
       "      <th>date_joined</th>\n",
       "      <th>number_of_dependents</th>\n",
       "      <th>marriage_status</th>\n",
       "      <th>income</th>\n",
       "      <th>...</th>\n",
       "      <th>avg_spent</th>\n",
       "      <th>spending_flag</th>\n",
       "      <th>buy_frequency</th>\n",
       "      <th>frequency_flag</th>\n",
       "      <th>region</th>\n",
       "      <th>customer_activity_flag</th>\n",
       "      <th>age_group</th>\n",
       "      <th>income_class</th>\n",
       "      <th>dependents_flag</th>\n",
       "      <th>department</th>\n",
       "    </tr>\n",
       "  </thead>\n",
       "  <tbody>\n",
       "    <tr>\n",
       "      <th>0</th>\n",
       "      <td>26711</td>\n",
       "      <td>Deborah</td>\n",
       "      <td>Esquivel</td>\n",
       "      <td>Female</td>\n",
       "      <td>Missouri</td>\n",
       "      <td>48</td>\n",
       "      <td>1/1/2017</td>\n",
       "      <td>3</td>\n",
       "      <td>married</td>\n",
       "      <td>165665</td>\n",
       "      <td>...</td>\n",
       "      <td>8.205882</td>\n",
       "      <td>Low spender</td>\n",
       "      <td>19.823529</td>\n",
       "      <td>Regular customer</td>\n",
       "      <td>Midwest</td>\n",
       "      <td>high_activity</td>\n",
       "      <td>middle-aged_adult</td>\n",
       "      <td>upper_class</td>\n",
       "      <td>large_family</td>\n",
       "      <td>dairy eggs</td>\n",
       "    </tr>\n",
       "    <tr>\n",
       "      <th>1</th>\n",
       "      <td>26711</td>\n",
       "      <td>Deborah</td>\n",
       "      <td>Esquivel</td>\n",
       "      <td>Female</td>\n",
       "      <td>Missouri</td>\n",
       "      <td>48</td>\n",
       "      <td>1/1/2017</td>\n",
       "      <td>3</td>\n",
       "      <td>married</td>\n",
       "      <td>165665</td>\n",
       "      <td>...</td>\n",
       "      <td>8.205882</td>\n",
       "      <td>Low spender</td>\n",
       "      <td>19.823529</td>\n",
       "      <td>Regular customer</td>\n",
       "      <td>Midwest</td>\n",
       "      <td>high_activity</td>\n",
       "      <td>middle-aged_adult</td>\n",
       "      <td>upper_class</td>\n",
       "      <td>large_family</td>\n",
       "      <td>dairy eggs</td>\n",
       "    </tr>\n",
       "    <tr>\n",
       "      <th>2</th>\n",
       "      <td>26711</td>\n",
       "      <td>Deborah</td>\n",
       "      <td>Esquivel</td>\n",
       "      <td>Female</td>\n",
       "      <td>Missouri</td>\n",
       "      <td>48</td>\n",
       "      <td>1/1/2017</td>\n",
       "      <td>3</td>\n",
       "      <td>married</td>\n",
       "      <td>165665</td>\n",
       "      <td>...</td>\n",
       "      <td>8.205882</td>\n",
       "      <td>Low spender</td>\n",
       "      <td>19.823529</td>\n",
       "      <td>Regular customer</td>\n",
       "      <td>Midwest</td>\n",
       "      <td>high_activity</td>\n",
       "      <td>middle-aged_adult</td>\n",
       "      <td>upper_class</td>\n",
       "      <td>large_family</td>\n",
       "      <td>produce</td>\n",
       "    </tr>\n",
       "    <tr>\n",
       "      <th>3</th>\n",
       "      <td>26711</td>\n",
       "      <td>Deborah</td>\n",
       "      <td>Esquivel</td>\n",
       "      <td>Female</td>\n",
       "      <td>Missouri</td>\n",
       "      <td>48</td>\n",
       "      <td>1/1/2017</td>\n",
       "      <td>3</td>\n",
       "      <td>married</td>\n",
       "      <td>165665</td>\n",
       "      <td>...</td>\n",
       "      <td>8.205882</td>\n",
       "      <td>Low spender</td>\n",
       "      <td>19.823529</td>\n",
       "      <td>Regular customer</td>\n",
       "      <td>Midwest</td>\n",
       "      <td>high_activity</td>\n",
       "      <td>middle-aged_adult</td>\n",
       "      <td>upper_class</td>\n",
       "      <td>large_family</td>\n",
       "      <td>produce</td>\n",
       "    </tr>\n",
       "    <tr>\n",
       "      <th>4</th>\n",
       "      <td>26711</td>\n",
       "      <td>Deborah</td>\n",
       "      <td>Esquivel</td>\n",
       "      <td>Female</td>\n",
       "      <td>Missouri</td>\n",
       "      <td>48</td>\n",
       "      <td>1/1/2017</td>\n",
       "      <td>3</td>\n",
       "      <td>married</td>\n",
       "      <td>165665</td>\n",
       "      <td>...</td>\n",
       "      <td>8.205882</td>\n",
       "      <td>Low spender</td>\n",
       "      <td>19.823529</td>\n",
       "      <td>Regular customer</td>\n",
       "      <td>Midwest</td>\n",
       "      <td>high_activity</td>\n",
       "      <td>middle-aged_adult</td>\n",
       "      <td>upper_class</td>\n",
       "      <td>large_family</td>\n",
       "      <td>dairy eggs</td>\n",
       "    </tr>\n",
       "  </tbody>\n",
       "</table>\n",
       "<p>5 rows × 38 columns</p>\n",
       "</div>"
      ],
      "text/plain": [
       "  user_id first_name last_name  gender     state  age date_joined  \\\n",
       "0   26711    Deborah  Esquivel  Female  Missouri   48    1/1/2017   \n",
       "1   26711    Deborah  Esquivel  Female  Missouri   48    1/1/2017   \n",
       "2   26711    Deborah  Esquivel  Female  Missouri   48    1/1/2017   \n",
       "3   26711    Deborah  Esquivel  Female  Missouri   48    1/1/2017   \n",
       "4   26711    Deborah  Esquivel  Female  Missouri   48    1/1/2017   \n",
       "\n",
       "   number_of_dependents marriage_status  income  ... avg_spent  spending_flag  \\\n",
       "0                     3         married  165665  ...  8.205882    Low spender   \n",
       "1                     3         married  165665  ...  8.205882    Low spender   \n",
       "2                     3         married  165665  ...  8.205882    Low spender   \n",
       "3                     3         married  165665  ...  8.205882    Low spender   \n",
       "4                     3         married  165665  ...  8.205882    Low spender   \n",
       "\n",
       "   buy_frequency    frequency_flag   region  customer_activity_flag  \\\n",
       "0      19.823529  Regular customer  Midwest           high_activity   \n",
       "1      19.823529  Regular customer  Midwest           high_activity   \n",
       "2      19.823529  Regular customer  Midwest           high_activity   \n",
       "3      19.823529  Regular customer  Midwest           high_activity   \n",
       "4      19.823529  Regular customer  Midwest           high_activity   \n",
       "\n",
       "           age_group  income_class dependents_flag  department  \n",
       "0  middle-aged_adult   upper_class    large_family  dairy eggs  \n",
       "1  middle-aged_adult   upper_class    large_family  dairy eggs  \n",
       "2  middle-aged_adult   upper_class    large_family     produce  \n",
       "3  middle-aged_adult   upper_class    large_family     produce  \n",
       "4  middle-aged_adult   upper_class    large_family  dairy eggs  \n",
       "\n",
       "[5 rows x 38 columns]"
      ]
     },
     "execution_count": 36,
     "metadata": {},
     "output_type": "execute_result"
    }
   ],
   "source": [
    "orders_products_high_dept.head()"
   ]
  },
  {
   "cell_type": "markdown",
   "id": "8dd1c2c6-2019-411b-b7df-012515a9baac",
   "metadata": {},
   "source": [
    "        #Show frequency counts of merge"
   ]
  },
  {
   "cell_type": "code",
   "execution_count": 38,
   "id": "79f26917-b5fa-4cb2-957a-45dc199620f8",
   "metadata": {},
   "outputs": [
    {
     "data": {
      "text/plain": [
       "department\n",
       "produce            8608701\n",
       "dairy eggs         4909353\n",
       "snacks             2620533\n",
       "beverages          2437586\n",
       "frozen             1996444\n",
       "pantry             1681391\n",
       "bakery             1060612\n",
       "canned goods        954449\n",
       "deli                947553\n",
       "dry goods pasta     773993\n",
       "household           658975\n",
       "meat seafood        637276\n",
       "breakfast           633469\n",
       "personal care       399739\n",
       "babies              391707\n",
       "international       240869\n",
       "alcohol             134867\n",
       "pets                 87805\n",
       "missing              63389\n",
       "other                32572\n",
       "bulk                 31998\n",
       "Name: count, dtype: int64"
      ]
     },
     "execution_count": 38,
     "metadata": {},
     "output_type": "execute_result"
    }
   ],
   "source": [
    "orders_products_high_dept['department'].value_counts()"
   ]
  },
  {
   "cell_type": "code",
   "execution_count": 39,
   "id": "e79a3f19-ef1b-4d5c-ba75-56480d554dfb",
   "metadata": {},
   "outputs": [
    {
     "data": {
      "image/png": "[encoded data removed]",
      "text/plain": [
       "<Figure size 640x480 with 1 Axes>"
      ]
     },
     "metadata": {},
     "output_type": "display_data"
    }
   ],
   "source": [
    "bar_department = orders_products_high_dept['department'].value_counts().plot.bar()"
   ]
  },
  {
   "cell_type": "markdown",
   "id": "bbbbf69b-a565-4bfe-ba20-1e47c6d717c2",
   "metadata": {},
   "source": [
    "### Export Visualization"
   ]
  },
  {
   "cell_type": "code",
   "execution_count": 41,
   "id": "9d7d0df3-e44f-4f2a-bb2e-a3a9463bbf5e",
   "metadata": {},
   "outputs": [],
   "source": [
    "bar_department.figure.savefig(os.path.join(path, '04 Analysis', 'Visualizations', 'bar_department.png'))"
   ]
  },
  {
   "cell_type": "markdown",
   "id": "da1cea7b-111d-4b99-9b82-e5164fd347ba",
   "metadata": {},
   "source": [
    "### Export dataframe orders_products_high_dept"
   ]
  },
  {
   "cell_type": "code",
   "execution_count": 43,
   "id": "ff86bb0f-4531-4e35-8f94-85fb9002dc0c",
   "metadata": {},
   "outputs": [],
   "source": [
    "orders_products_high_dept.to_pickle(os.path.join(path, '02 Data', 'Prepared', 'orders_products_high_dept410b+.pkl'))"
   ]
  }
 ],
 "metadata": {
  "kernelspec": {
   "display_name": "Python 3 (ipykernel)",
   "language": "python",
   "name": "python3"
  },
  "language_info": {
   "codemirror_mode": {
    "name": "ipython",
    "version": 3
   },
   "file_extension": ".py",
   "mimetype": "text/x-python",
   "name": "python",
   "nbconvert_exporter": "python",
   "pygments_lexer": "ipython3",
   "version": "3.12.4"
  }
 },
 "nbformat": 4,
 "nbformat_minor": 5
}
