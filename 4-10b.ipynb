{
 "cells": [
  {
   "cell_type": "markdown",
   "id": "7e758614-3738-4777-8866-1e7149f5efd9",
   "metadata": {},
   "source": [
    "# 4.10 Part I Task #5-6"
   ]
  },
  {
   "cell_type": "markdown",
   "id": "cd785c14-1bfd-40ba-a522-a828a24dfcfa",
   "metadata": {},
   "source": [
    "This script contains the following points:\n",
    "\n",
    "1. Create profiling variables (except department; for dept, see notebook 4-10b-Dept)\n",
    "2. Create appropriate visualizations to show distribution of profiles\n",
    "3. Aggregate the max, mean, and min variables on a customer-profile level for usage frequency and expenditure.\n",
    "4. Export the visualizations"
   ]
  },
  {
   "cell_type": "code",
   "execution_count": 58,
   "id": "1a03bc65-6665-4718-b0fe-5a56bf305bc3",
   "metadata": {},
   "outputs": [],
   "source": [
    "    # Import libraries\n",
    "import pandas as pd\n",
    "import numpy as np\n",
    "import os\n",
    "import matplotlib.pyplot as plt\n",
    "import seaborn as sns\n",
    "import scipy"
   ]
  },
  {
   "cell_type": "code",
   "execution_count": 59,
   "id": "2420640d-1c40-4ca3-b7e3-98cb4e0af6d6",
   "metadata": {},
   "outputs": [],
   "source": [
    "      #Import dataframe\n",
    "path = r'C:\\Users\\Barb\\07-2024 Instacart Basket Analysis'"
   ]
  },
  {
   "cell_type": "code",
   "execution_count": 60,
   "id": "29d6a4e0-8d44-4e18-af01-1c64f530b8b6",
   "metadata": {
    "scrolled": true
   },
   "outputs": [],
   "source": [
    "orders_products_high = pd.read_pickle(os.path.join(path, '02 Data', 'Prepared', 'orders_products_high410a.pkl'))"
   ]
  },
  {
   "cell_type": "code",
   "execution_count": 61,
   "id": "fc3efad1-9097-4bcc-91b6-d33ce2801a98",
   "metadata": {},
   "outputs": [],
   "source": [
    "     #Check output"
   ]
  },
  {
   "cell_type": "code",
   "execution_count": 62,
   "id": "d1b27b87-3dc1-4875-8a3c-1c09d6becd57",
   "metadata": {},
   "outputs": [
    {
     "data": {
      "text/plain": [
       "(29303281, 35)"
      ]
     },
     "execution_count": 62,
     "metadata": {},
     "output_type": "execute_result"
    }
   ],
   "source": [
    "orders_products_high.shape"
   ]
  },
  {
   "cell_type": "code",
   "execution_count": 63,
   "id": "fef12c71-eaf8-4cf7-abb5-bc43b0845743",
   "metadata": {},
   "outputs": [
    {
     "data": {
      "text/html": [
       "<div>\n",
       "<style scoped>\n",
       "    .dataframe tbody tr th:only-of-type {\n",
       "        vertical-align: middle;\n",
       "    }\n",
       "\n",
       "    .dataframe tbody tr th {\n",
       "        vertical-align: top;\n",
       "    }\n",
       "\n",
       "    .dataframe thead th {\n",
       "        text-align: right;\n",
       "    }\n",
       "</style>\n",
       "<table border=\"1\" class=\"dataframe\">\n",
       "  <thead>\n",
       "    <tr style=\"text-align: right;\">\n",
       "      <th></th>\n",
       "      <th>user_id</th>\n",
       "      <th>first_name</th>\n",
       "      <th>last_name</th>\n",
       "      <th>gender</th>\n",
       "      <th>state</th>\n",
       "      <th>age</th>\n",
       "      <th>date_joined</th>\n",
       "      <th>number_of_dependents</th>\n",
       "      <th>marriage_status</th>\n",
       "      <th>income</th>\n",
       "      <th>...</th>\n",
       "      <th>busiest_period_of_day</th>\n",
       "      <th>max_order</th>\n",
       "      <th>loyalty_flag</th>\n",
       "      <th>avg_spent</th>\n",
       "      <th>spending_flag</th>\n",
       "      <th>buy_frequency</th>\n",
       "      <th>frequency_flag</th>\n",
       "      <th>_merge</th>\n",
       "      <th>region</th>\n",
       "      <th>customer_activity_flag</th>\n",
       "    </tr>\n",
       "  </thead>\n",
       "  <tbody>\n",
       "    <tr>\n",
       "      <th>0</th>\n",
       "      <td>26711</td>\n",
       "      <td>Deborah</td>\n",
       "      <td>Esquivel</td>\n",
       "      <td>Female</td>\n",
       "      <td>Missouri</td>\n",
       "      <td>48</td>\n",
       "      <td>1/1/2017</td>\n",
       "      <td>3</td>\n",
       "      <td>married</td>\n",
       "      <td>165665</td>\n",
       "      <td>...</td>\n",
       "      <td>Average Orders</td>\n",
       "      <td>8</td>\n",
       "      <td>New customer</td>\n",
       "      <td>8.205882</td>\n",
       "      <td>Low spender</td>\n",
       "      <td>19.823529</td>\n",
       "      <td>Regular customer</td>\n",
       "      <td>both</td>\n",
       "      <td>Midwest</td>\n",
       "      <td>high_activity</td>\n",
       "    </tr>\n",
       "    <tr>\n",
       "      <th>1</th>\n",
       "      <td>26711</td>\n",
       "      <td>Deborah</td>\n",
       "      <td>Esquivel</td>\n",
       "      <td>Female</td>\n",
       "      <td>Missouri</td>\n",
       "      <td>48</td>\n",
       "      <td>1/1/2017</td>\n",
       "      <td>3</td>\n",
       "      <td>married</td>\n",
       "      <td>165665</td>\n",
       "      <td>...</td>\n",
       "      <td>Most Orders</td>\n",
       "      <td>8</td>\n",
       "      <td>New customer</td>\n",
       "      <td>8.205882</td>\n",
       "      <td>Low spender</td>\n",
       "      <td>19.823529</td>\n",
       "      <td>Regular customer</td>\n",
       "      <td>both</td>\n",
       "      <td>Midwest</td>\n",
       "      <td>high_activity</td>\n",
       "    </tr>\n",
       "    <tr>\n",
       "      <th>2</th>\n",
       "      <td>26711</td>\n",
       "      <td>Deborah</td>\n",
       "      <td>Esquivel</td>\n",
       "      <td>Female</td>\n",
       "      <td>Missouri</td>\n",
       "      <td>48</td>\n",
       "      <td>1/1/2017</td>\n",
       "      <td>3</td>\n",
       "      <td>married</td>\n",
       "      <td>165665</td>\n",
       "      <td>...</td>\n",
       "      <td>Most Orders</td>\n",
       "      <td>8</td>\n",
       "      <td>New customer</td>\n",
       "      <td>8.205882</td>\n",
       "      <td>Low spender</td>\n",
       "      <td>19.823529</td>\n",
       "      <td>Regular customer</td>\n",
       "      <td>both</td>\n",
       "      <td>Midwest</td>\n",
       "      <td>high_activity</td>\n",
       "    </tr>\n",
       "    <tr>\n",
       "      <th>3</th>\n",
       "      <td>26711</td>\n",
       "      <td>Deborah</td>\n",
       "      <td>Esquivel</td>\n",
       "      <td>Female</td>\n",
       "      <td>Missouri</td>\n",
       "      <td>48</td>\n",
       "      <td>1/1/2017</td>\n",
       "      <td>3</td>\n",
       "      <td>married</td>\n",
       "      <td>165665</td>\n",
       "      <td>...</td>\n",
       "      <td>Most Orders</td>\n",
       "      <td>8</td>\n",
       "      <td>New customer</td>\n",
       "      <td>8.205882</td>\n",
       "      <td>Low spender</td>\n",
       "      <td>19.823529</td>\n",
       "      <td>Regular customer</td>\n",
       "      <td>both</td>\n",
       "      <td>Midwest</td>\n",
       "      <td>high_activity</td>\n",
       "    </tr>\n",
       "    <tr>\n",
       "      <th>4</th>\n",
       "      <td>26711</td>\n",
       "      <td>Deborah</td>\n",
       "      <td>Esquivel</td>\n",
       "      <td>Female</td>\n",
       "      <td>Missouri</td>\n",
       "      <td>48</td>\n",
       "      <td>1/1/2017</td>\n",
       "      <td>3</td>\n",
       "      <td>married</td>\n",
       "      <td>165665</td>\n",
       "      <td>...</td>\n",
       "      <td>Average Orders</td>\n",
       "      <td>8</td>\n",
       "      <td>New customer</td>\n",
       "      <td>8.205882</td>\n",
       "      <td>Low spender</td>\n",
       "      <td>19.823529</td>\n",
       "      <td>Regular customer</td>\n",
       "      <td>both</td>\n",
       "      <td>Midwest</td>\n",
       "      <td>high_activity</td>\n",
       "    </tr>\n",
       "  </tbody>\n",
       "</table>\n",
       "<p>5 rows × 35 columns</p>\n",
       "</div>"
      ],
      "text/plain": [
       "  user_id first_name last_name  gender     state  age date_joined  \\\n",
       "0   26711    Deborah  Esquivel  Female  Missouri   48    1/1/2017   \n",
       "1   26711    Deborah  Esquivel  Female  Missouri   48    1/1/2017   \n",
       "2   26711    Deborah  Esquivel  Female  Missouri   48    1/1/2017   \n",
       "3   26711    Deborah  Esquivel  Female  Missouri   48    1/1/2017   \n",
       "4   26711    Deborah  Esquivel  Female  Missouri   48    1/1/2017   \n",
       "\n",
       "   number_of_dependents marriage_status  income  ... busiest_period_of_day  \\\n",
       "0                     3         married  165665  ...        Average Orders   \n",
       "1                     3         married  165665  ...           Most Orders   \n",
       "2                     3         married  165665  ...           Most Orders   \n",
       "3                     3         married  165665  ...           Most Orders   \n",
       "4                     3         married  165665  ...        Average Orders   \n",
       "\n",
       "   max_order  loyalty_flag  avg_spent  spending_flag  buy_frequency  \\\n",
       "0          8  New customer   8.205882    Low spender      19.823529   \n",
       "1          8  New customer   8.205882    Low spender      19.823529   \n",
       "2          8  New customer   8.205882    Low spender      19.823529   \n",
       "3          8  New customer   8.205882    Low spender      19.823529   \n",
       "4          8  New customer   8.205882    Low spender      19.823529   \n",
       "\n",
       "     frequency_flag  _merge   region  customer_activity_flag  \n",
       "0  Regular customer    both  Midwest           high_activity  \n",
       "1  Regular customer    both  Midwest           high_activity  \n",
       "2  Regular customer    both  Midwest           high_activity  \n",
       "3  Regular customer    both  Midwest           high_activity  \n",
       "4  Regular customer    both  Midwest           high_activity  \n",
       "\n",
       "[5 rows x 35 columns]"
      ]
     },
     "execution_count": 63,
     "metadata": {},
     "output_type": "execute_result"
    }
   ],
   "source": [
    "orders_products_high.head()"
   ]
  },
  {
   "cell_type": "markdown",
   "id": "29ada5aa-7559-41f8-a49c-52eb949b3a91",
   "metadata": {},
   "source": [
    "## Task #5 - Create profiling variable based on age, income, certain goods in the \"department_id\" column, and number_of_dependents "
   ]
  },
  {
   "cell_type": "markdown",
   "id": "a2f27fd1-ad8b-490c-a40b-10b31a191ffb",
   "metadata": {},
   "source": [
    "### 5.1 Customer profile:   age_group"
   ]
  },
  {
   "cell_type": "code",
   "execution_count": 66,
   "id": "ccd9446c-2222-42f5-b692-28c0bc5f1882",
   "metadata": {},
   "outputs": [],
   "source": [
    "orders_products_high.loc[orders_products_high['age']<=30,'age_group']='young_adult'"
   ]
  },
  {
   "cell_type": "code",
   "execution_count": 67,
   "id": "ac9be5e6-0852-48f5-a246-6e747617ddac",
   "metadata": {},
   "outputs": [],
   "source": [
    "orders_products_high.loc[(orders_products_high['age'] > 30) & (orders_products_high['age'] <= 60),'age_group']='middle-aged_adult'"
   ]
  },
  {
   "cell_type": "code",
   "execution_count": 68,
   "id": "1756090e-5697-4cfd-b85c-e8658b669270",
   "metadata": {},
   "outputs": [],
   "source": [
    "orders_products_high.loc[(orders_products_high['age'] > 60),'age_group']='senior'"
   ]
  },
  {
   "cell_type": "code",
   "execution_count": null,
   "id": "aa63935d-c608-4ed3-97bd-ab892adb6fae",
   "metadata": {},
   "outputs": [],
   "source": []
  },
  {
   "cell_type": "code",
   "execution_count": 69,
   "id": "0fe17aa0-2337-41c9-9e79-bcdefd2a66f1",
   "metadata": {},
   "outputs": [
    {
     "data": {
      "text/plain": [
       "age_group\n",
       "middle-aged_adult    13769037\n",
       "senior                9568464\n",
       "young_adult           5965780\n",
       "Name: count, dtype: int64"
      ]
     },
     "execution_count": 69,
     "metadata": {},
     "output_type": "execute_result"
    }
   ],
   "source": [
    "orders_products_high['age_group'].value_counts()"
   ]
  },
  {
   "cell_type": "code",
   "execution_count": null,
   "id": "a3263a74-c839-404f-9ca0-663903d45e45",
   "metadata": {},
   "outputs": [],
   "source": []
  },
  {
   "cell_type": "markdown",
   "id": "7b26ee71-60b0-4443-9c85-f8c1de3ae0c3",
   "metadata": {},
   "source": [
    "### 5.2 Customer profile:  income_class"
   ]
  },
  {
   "cell_type": "code",
   "execution_count": 71,
   "id": "7925afab-2c8a-40b4-9b88-1b52de3daf91",
   "metadata": {},
   "outputs": [],
   "source": [
    "orders_products_high.loc[orders_products_high['income']<= 50000,'income_class']='lower_class'"
   ]
  },
  {
   "cell_type": "code",
   "execution_count": 72,
   "id": "85b8e81d-cf37-4357-96b6-1dc7c097d9c2",
   "metadata": {},
   "outputs": [],
   "source": [
    "orders_products_high.loc[(orders_products_high['income'] > 50000) & (orders_products_high['income'] <= 100000),'income_class']='middle_class'"
   ]
  },
  {
   "cell_type": "code",
   "execution_count": 73,
   "id": "dbfa2ddd-573e-406b-a185-cdfca62df130",
   "metadata": {},
   "outputs": [],
   "source": [
    "orders_products_high.loc[orders_products_high['income'] > 100000,'income_class']='upper_class'"
   ]
  },
  {
   "cell_type": "code",
   "execution_count": null,
   "id": "72883342-ce1f-469f-9dfd-c32b545dec09",
   "metadata": {},
   "outputs": [],
   "source": []
  },
  {
   "cell_type": "code",
   "execution_count": 74,
   "id": "92d12dd4-a444-4c82-9aaf-896e9140e452",
   "metadata": {},
   "outputs": [
    {
     "data": {
      "text/plain": [
       "income_class\n",
       "upper_class     13450870\n",
       "middle_class    12684530\n",
       "lower_class      3167881\n",
       "Name: count, dtype: int64"
      ]
     },
     "execution_count": 74,
     "metadata": {},
     "output_type": "execute_result"
    }
   ],
   "source": [
    "orders_products_high['income_class'].value_counts()"
   ]
  },
  {
   "cell_type": "code",
   "execution_count": null,
   "id": "2a3ea313-5148-4b22-87d9-a255fb353615",
   "metadata": {},
   "outputs": [],
   "source": []
  },
  {
   "cell_type": "markdown",
   "id": "4f9e1c6e-e103-4f40-a3ac-e1e7d938db99",
   "metadata": {},
   "source": [
    "### 5.3 Customer profile:  dependents_flag"
   ]
  },
  {
   "cell_type": "code",
   "execution_count": 76,
   "id": "453c9ec1-ef05-419e-bd15-5db21770af00",
   "metadata": {},
   "outputs": [],
   "source": [
    "orders_products_high.loc[orders_products_high['number_of_dependents'] == 0,'dependents_flag']='no_dependents'"
   ]
  },
  {
   "cell_type": "code",
   "execution_count": 77,
   "id": "17bd62d8-163c-4af1-b5ca-5bc54da1d2dc",
   "metadata": {},
   "outputs": [],
   "source": [
    "orders_products_high.loc[(orders_products_high['number_of_dependents'] > 0) & (orders_products_high['number_of_dependents'] <= 2),'dependents_flag']='small_family'"
   ]
  },
  {
   "cell_type": "code",
   "execution_count": 78,
   "id": "87fb528a-88b1-4947-9e8c-320274352bb2",
   "metadata": {},
   "outputs": [],
   "source": [
    "orders_products_high.loc[(orders_products_high['number_of_dependents'] > 2),'dependents_flag']='large_family'"
   ]
  },
  {
   "cell_type": "code",
   "execution_count": null,
   "id": "7c2ccfcd-78df-4e2f-99c9-b5f26622351d",
   "metadata": {},
   "outputs": [],
   "source": []
  },
  {
   "cell_type": "code",
   "execution_count": 79,
   "id": "aeb75565-a8f6-4009-94d5-d1ceb0681e51",
   "metadata": {},
   "outputs": [
    {
     "data": {
      "text/plain": [
       "dependents_flag\n",
       "small_family     14620951\n",
       "large_family      7357443\n",
       "no_dependents     7324887\n",
       "Name: count, dtype: int64"
      ]
     },
     "execution_count": 79,
     "metadata": {},
     "output_type": "execute_result"
    }
   ],
   "source": [
    "orders_products_high['dependents_flag'].value_counts()"
   ]
  },
  {
   "cell_type": "markdown",
   "id": "3b877c15-6c47-4afa-8ca2-28ea9523a8f0",
   "metadata": {},
   "source": [
    "### 5.4 Customer profile:  certain goods in the 'department_id' column"
   ]
  },
  {
   "cell_type": "markdown",
   "id": "ba40742f-32a8-49c0-a3e2-560bb9bfbcef",
   "metadata": {},
   "source": [
    "#### See notebook 4-10b-Dept"
   ]
  },
  {
   "cell_type": "markdown",
   "id": "60019e12-5f6a-49d3-b4fb-26d93d9ad3c3",
   "metadata": {},
   "source": [
    "### Task #6 - Create an appropriate visualization to show the distribution of profiles"
   ]
  },
  {
   "cell_type": "markdown",
   "id": "4279f204-1769-408b-81e6-109b085cd0c2",
   "metadata": {},
   "source": [
    "#### 6.1 Age_group - Bar Graph"
   ]
  },
  {
   "cell_type": "code",
   "execution_count": 105,
   "id": "3dfe4f1e-c4ae-4cb7-81f7-6002bd634346",
   "metadata": {
    "scrolled": true
   },
   "outputs": [
    {
     "data": {
      "image/png": "[encoded data removed]",
      "text/plain": [
       "<Figure size 640x480 with 1 Axes>"
      ]
     },
     "metadata": {},
     "output_type": "display_data"
    }
   ],
   "source": [
    "bar_age_group = orders_products_high['age_group'].value_counts().plot.bar(color =['yellow', 'green', 'blue'])"
   ]
  },
  {
   "cell_type": "markdown",
   "id": "78a69117-2c62-4bd5-b999-9d95ee79b2ee",
   "metadata": {},
   "source": [
    "#### 6.2 Income_class - Bar Graph"
   ]
  },
  {
   "cell_type": "code",
   "execution_count": 107,
   "id": "f530ab74-c7bc-4bf7-bb21-338d47e29812",
   "metadata": {},
   "outputs": [
    {
     "data": {
      "image/png": "[encoded data removed]",
      "text/plain": [
       "<Figure size 640x480 with 1 Axes>"
      ]
     },
     "metadata": {},
     "output_type": "display_data"
    }
   ],
   "source": [
    "bar_income_class = orders_products_high['income_class'].value_counts().plot.bar(color =['yellow', 'green', 'blue'])"
   ]
  },
  {
   "cell_type": "markdown",
   "id": "0813535e-ab20-4218-a043-5cdd99f27d57",
   "metadata": {},
   "source": [
    "#### 6.3 Dependents_flag - Bar Graph"
   ]
  },
  {
   "cell_type": "code",
   "execution_count": 109,
   "id": "74aa316c-6828-4e2c-9965-42a4a46d3e9e",
   "metadata": {},
   "outputs": [
    {
     "data": {
      "image/png": "[encoded data removed]",
      "text/plain": [
       "<Figure size 640x480 with 1 Axes>"
      ]
     },
     "metadata": {},
     "output_type": "display_data"
    }
   ],
   "source": [
    "bar_dependents_flag = orders_products_high['dependents_flag'].value_counts().plot.bar(color =['yellow', 'green', 'blue'])"
   ]
  },
  {
   "cell_type": "markdown",
   "id": "8a320142-dfff-48cf-b94b-15ee8cd3331d",
   "metadata": {},
   "source": [
    "### Export Visualizations"
   ]
  },
  {
   "cell_type": "code",
   "execution_count": 111,
   "id": "4da71d59-59b4-419e-b482-c9d7f0e35140",
   "metadata": {},
   "outputs": [],
   "source": [
    "bar_age_group.figure.savefig(os.path.join(path, '04 Analysis', 'Visualizations', 'bar_age_group.png'))"
   ]
  },
  {
   "cell_type": "code",
   "execution_count": 112,
   "id": "0605050c-8350-4dff-8992-4a6aec411bb5",
   "metadata": {},
   "outputs": [],
   "source": [
    "bar_income_class.figure.savefig(os.path.join(path, '04 Analysis', 'Visualizations', 'bar_income_class.png'))"
   ]
  },
  {
   "cell_type": "code",
   "execution_count": 113,
   "id": "da6140f3-9632-4303-b46d-90e2fcad2d3a",
   "metadata": {},
   "outputs": [],
   "source": [
    "bar_dependents_flag.figure.savefig(os.path.join(path, '04 Analysis', 'Visualizations', 'bar_dependents_flag.png'))"
   ]
  },
  {
   "cell_type": "markdown",
   "id": "5c2dab89-497b-4997-b5cb-6603ba5208b7",
   "metadata": {},
   "source": [
    "### Export dataframe"
   ]
  },
  {
   "cell_type": "code",
   "execution_count": 115,
   "id": "b7095797-b7c0-4486-97e8-506cc9fbb664",
   "metadata": {},
   "outputs": [],
   "source": [
    "orders_products_high.to_pickle(os.path.join(path, '02 Data', 'Prepared', 'orders_products_high_410b.pkl'))"
   ]
  }
 ],
 "metadata": {
  "kernelspec": {
   "display_name": "Python 3 (ipykernel)",
   "language": "python",
   "name": "python3"
  },
  "language_info": {
   "codemirror_mode": {
    "name": "ipython",
    "version": 3
   },
   "file_extension": ".py",
   "mimetype": "text/x-python",
   "name": "python",
   "nbconvert_exporter": "python",
   "pygments_lexer": "ipython3",
   "version": "3.12.4"
  }
 },
 "nbformat": 4,
 "nbformat_minor": 5
}
