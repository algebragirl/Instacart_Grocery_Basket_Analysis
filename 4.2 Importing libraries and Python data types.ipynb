{
 "cells": [
  {
   "cell_type": "markdown",
   "id": "255dd9f7-cc73-4a5e-9cd2-63b68917e719",
   "metadata": {},
   "source": [
    "#01. Importing libraries"
   ]
  },
  {
   "cell_type": "code",
   "execution_count": 1,
   "id": "91041802-2eea-4d4b-b3de-a40c2b88da3d",
   "metadata": {},
   "outputs": [],
   "source": [
    "# Import libraries\n",
    "import pandas as pd\n",
    "import numpy as np\n",
    "import os"
   ]
  },
  {
   "cell_type": "markdown",
   "id": "9611a50f-74aa-4b50-8ae1-a8411599eebe",
   "metadata": {},
   "source": [
    "#02. Data Types"
   ]
  },
  {
   "cell_type": "markdown",
   "id": "80935071-7839-4e43-b740-1f7df3bb12de",
   "metadata": {},
   "source": [
    "#7 - Code 3 different ways of reaching a result of 100 by adding or subtracting numeric variables"
   ]
  },
  {
   "cell_type": "code",
   "execution_count": 3,
   "id": "e1e3b652-4b89-48a6-a923-24f3cdb5e859",
   "metadata": {},
   "outputs": [],
   "source": [
    "p=10"
   ]
  },
  {
   "cell_type": "code",
   "execution_count": 5,
   "id": "c587ebb3-318a-4bbc-9392-dde91054a516",
   "metadata": {},
   "outputs": [],
   "source": [
    "q=20"
   ]
  },
  {
   "cell_type": "code",
   "execution_count": 7,
   "id": "e89b8e40-aabf-47a3-9b93-0a1a0ade6b3e",
   "metadata": {},
   "outputs": [],
   "source": [
    "x=90"
   ]
  },
  {
   "cell_type": "code",
   "execution_count": 9,
   "id": "60b61d68-527f-4d29-bdd4-6c111ccb7cfe",
   "metadata": {},
   "outputs": [],
   "source": [
    "z=110"
   ]
  },
  {
   "cell_type": "code",
   "execution_count": 11,
   "id": "484c0c2e-0c19-4358-893d-411763c72dbb",
   "metadata": {},
   "outputs": [
    {
     "data": {
      "text/plain": [
       "100"
      ]
     },
     "execution_count": 11,
     "metadata": {},
     "output_type": "execute_result"
    }
   ],
   "source": [
    "x+q-p"
   ]
  },
  {
   "cell_type": "code",
   "execution_count": 13,
   "id": "aa70a0e2-1459-4615-b5af-e39e3506ba5d",
   "metadata": {},
   "outputs": [
    {
     "data": {
      "text/plain": [
       "100"
      ]
     },
     "execution_count": 13,
     "metadata": {},
     "output_type": "execute_result"
    }
   ],
   "source": [
    "p+x"
   ]
  },
  {
   "cell_type": "code",
   "execution_count": 15,
   "id": "73fb14e3-0382-4f4c-a250-6c576035cc95",
   "metadata": {},
   "outputs": [
    {
     "data": {
      "text/plain": [
       "100"
      ]
     },
     "execution_count": 15,
     "metadata": {},
     "output_type": "execute_result"
    }
   ],
   "source": [
    "z-p"
   ]
  },
  {
   "cell_type": "markdown",
   "id": "1f9a535e-257e-4c10-a9d8-ed3f2894f8fa",
   "metadata": {},
   "source": [
    "#8 - Code 2 floating-point variables and divide them by each other."
   ]
  },
  {
   "cell_type": "code",
   "execution_count": 17,
   "id": "483c98d8-e6e8-4afb-98a7-4f56e78ac2d1",
   "metadata": {},
   "outputs": [],
   "source": [
    "a=6.28"
   ]
  },
  {
   "cell_type": "code",
   "execution_count": 19,
   "id": "4f9c0f34-23ba-494d-b266-02a712d3b100",
   "metadata": {},
   "outputs": [],
   "source": [
    "b=3.14"
   ]
  },
  {
   "cell_type": "code",
   "execution_count": 21,
   "id": "c49cfbe6-4506-47f0-8f67-4309068a4ce8",
   "metadata": {},
   "outputs": [
    {
     "data": {
      "text/plain": [
       "2.0"
      ]
     },
     "execution_count": 21,
     "metadata": {},
     "output_type": "execute_result"
    }
   ],
   "source": [
    "a/b"
   ]
  },
  {
   "cell_type": "markdown",
   "id": "3cf2526a-ff9a-420d-b302-29a7d5ec9df9",
   "metadata": {},
   "source": [
    "#9 - Construct a short word made of separate strings (you'll need to concatenate some strings!)."
   ]
  },
  {
   "cell_type": "code",
   "execution_count": 24,
   "id": "a0ad9f7a-c5c4-4a92-b020-67fd64129754",
   "metadata": {},
   "outputs": [],
   "source": [
    "c='blue'"
   ]
  },
  {
   "cell_type": "code",
   "execution_count": 26,
   "id": "a088eadb-ea8b-4d4b-97fd-f39f55c1dc55",
   "metadata": {},
   "outputs": [],
   "source": [
    "d='bird'"
   ]
  },
  {
   "cell_type": "code",
   "execution_count": 28,
   "id": "dd1d118b-169d-4e62-b08c-02a7f712043f",
   "metadata": {},
   "outputs": [
    {
     "data": {
      "text/plain": [
       "'bluebird'"
      ]
     },
     "execution_count": 28,
     "metadata": {},
     "output_type": "execute_result"
    }
   ],
   "source": [
    "c+d"
   ]
  },
  {
   "cell_type": "markdown",
   "id": "7bc325e7-c6c6-443c-92eb-a6a18d0330ab",
   "metadata": {},
   "source": [
    "#10 - Construct 2 short sentences made of separate strings."
   ]
  },
  {
   "cell_type": "code",
   "execution_count": 30,
   "id": "b1035a5f-5daa-442f-be14-2e1837632739",
   "metadata": {},
   "outputs": [],
   "source": [
    "e='Roses are '"
   ]
  },
  {
   "cell_type": "code",
   "execution_count": 32,
   "id": "1f255706-0c2d-48af-8375-7319b9164bf6",
   "metadata": {},
   "outputs": [],
   "source": [
    "f='red.'"
   ]
  },
  {
   "cell_type": "code",
   "execution_count": 34,
   "id": "e6465005-b7ae-4391-8b96-9b8cf4c5a60a",
   "metadata": {},
   "outputs": [],
   "source": [
    "g='flowers.'"
   ]
  },
  {
   "cell_type": "code",
   "execution_count": 36,
   "id": "6b228607-7614-4cc2-8d9d-9a03961f44af",
   "metadata": {},
   "outputs": [
    {
     "data": {
      "text/plain": [
       "'Roses are red.'"
      ]
     },
     "execution_count": 36,
     "metadata": {},
     "output_type": "execute_result"
    }
   ],
   "source": [
    "e+f"
   ]
  },
  {
   "cell_type": "code",
   "execution_count": 38,
   "id": "c1bfacf6-2e5c-4a2e-8d03-301b96117e7a",
   "metadata": {},
   "outputs": [
    {
     "data": {
      "text/plain": [
       "'Roses are flowers.'"
      ]
     },
     "execution_count": 38,
     "metadata": {},
     "output_type": "execute_result"
    }
   ],
   "source": [
    "e+g"
   ]
  }
 ],
 "metadata": {
  "kernelspec": {
   "display_name": "Python 3 (ipykernel)",
   "language": "python",
   "name": "python3"
  },
  "language_info": {
   "codemirror_mode": {
    "name": "ipython",
    "version": 3
   },
   "file_extension": ".py",
   "mimetype": "text/x-python",
   "name": "python",
   "nbconvert_exporter": "python",
   "pygments_lexer": "ipython3",
   "version": "3.12.4"
  }
 },
 "nbformat": 4,
 "nbformat_minor": 5
}
