{
 "cells": [
  {
   "cell_type": "markdown",
   "id": "be97ba59-58a3-494a-a812-514428411c51",
   "metadata": {},
   "source": [
    "# 4.10 Part I Task #1-4"
   ]
  },
  {
   "cell_type": "markdown",
   "id": "7f9cc495-d6c4-4bae-8d93-d6d8ee980781",
   "metadata": {},
   "source": [
    "This script contains the following points:\n",
    "1. Import data and libraries\n",
    "2. Address any PII data\n",
    "3. Compare customers' spending habits in different regions of the US\n",
    "4. Create exclusion flag for low-activity customers"
   ]
  },
  {
   "cell_type": "markdown",
   "id": "6ab5a364-0c60-426c-bdf9-9df8fc63aef5",
   "metadata": {},
   "source": [
    "### Task #1 - Import data and libraries"
   ]
  },
  {
   "cell_type": "code",
   "execution_count": 4,
   "id": "63a6652d-6a75-4890-9875-08d9fccac6c5",
   "metadata": {},
   "outputs": [],
   "source": [
    "# Import libraries\n",
    "import pandas as pd\n",
    "import numpy as np\n",
    "import os\n",
    "import matplotlib.pyplot as plt\n",
    "import seaborn as sns\n",
    "import scipy"
   ]
  },
  {
   "cell_type": "code",
   "execution_count": 5,
   "id": "8f316a3c-aa63-4ddd-a23d-135d47bfbd4e",
   "metadata": {},
   "outputs": [],
   "source": [
    "     #Import dataframe\n",
    "path = r'C:\\Users\\Barb\\07-2024 Instacart Basket Analysis'"
   ]
  },
  {
   "cell_type": "code",
   "execution_count": 6,
   "id": "f94eb360-5d70-48ad-b3c4-300b03dac5de",
   "metadata": {},
   "outputs": [],
   "source": [
    "orders_products_all = pd.read_pickle(os.path.join(path, '02 Data', 'Prepared', 'ords_prods_all.pkl'))"
   ]
  },
  {
   "cell_type": "markdown",
   "id": "3bcb3e60-feea-4fac-bcdd-36ef227835d8",
   "metadata": {},
   "source": [
    "#### Check output"
   ]
  },
  {
   "cell_type": "code",
   "execution_count": 8,
   "id": "5236c46a-ae79-4bb1-bcb6-4e4ac45c683b",
   "metadata": {},
   "outputs": [
    {
     "data": {
      "text/plain": [
       "(30328763, 33)"
      ]
     },
     "execution_count": 8,
     "metadata": {},
     "output_type": "execute_result"
    }
   ],
   "source": [
    "orders_products_all.shape"
   ]
  },
  {
   "cell_type": "code",
   "execution_count": 9,
   "id": "6931e4e9-a70c-485c-a879-50bf8b9e8dba",
   "metadata": {},
   "outputs": [
    {
     "data": {
      "text/html": [
       "<div>\n",
       "<style scoped>\n",
       "    .dataframe tbody tr th:only-of-type {\n",
       "        vertical-align: middle;\n",
       "    }\n",
       "\n",
       "    .dataframe tbody tr th {\n",
       "        vertical-align: top;\n",
       "    }\n",
       "\n",
       "    .dataframe thead th {\n",
       "        text-align: right;\n",
       "    }\n",
       "</style>\n",
       "<table border=\"1\" class=\"dataframe\">\n",
       "  <thead>\n",
       "    <tr style=\"text-align: right;\">\n",
       "      <th></th>\n",
       "      <th>user_id</th>\n",
       "      <th>first_name</th>\n",
       "      <th>last_name</th>\n",
       "      <th>gender</th>\n",
       "      <th>state</th>\n",
       "      <th>age</th>\n",
       "      <th>date_joined</th>\n",
       "      <th>number_of_dependents</th>\n",
       "      <th>marriage_status</th>\n",
       "      <th>income</th>\n",
       "      <th>...</th>\n",
       "      <th>busiest_day</th>\n",
       "      <th>busiest_days</th>\n",
       "      <th>busiest_period_of_day</th>\n",
       "      <th>max_order</th>\n",
       "      <th>loyalty_flag</th>\n",
       "      <th>avg_spent</th>\n",
       "      <th>spending_flag</th>\n",
       "      <th>buy_frequency</th>\n",
       "      <th>frequency_flag</th>\n",
       "      <th>_merge</th>\n",
       "    </tr>\n",
       "  </thead>\n",
       "  <tbody>\n",
       "    <tr>\n",
       "      <th>0</th>\n",
       "      <td>26711</td>\n",
       "      <td>Deborah</td>\n",
       "      <td>Esquivel</td>\n",
       "      <td>Female</td>\n",
       "      <td>Missouri</td>\n",
       "      <td>48</td>\n",
       "      <td>1/1/2017</td>\n",
       "      <td>3</td>\n",
       "      <td>married</td>\n",
       "      <td>165665</td>\n",
       "      <td>...</td>\n",
       "      <td>Regularly busy</td>\n",
       "      <td>Regularly busy</td>\n",
       "      <td>Average Orders</td>\n",
       "      <td>8</td>\n",
       "      <td>New customer</td>\n",
       "      <td>8.205882</td>\n",
       "      <td>Low spender</td>\n",
       "      <td>19.823529</td>\n",
       "      <td>Regular customer</td>\n",
       "      <td>both</td>\n",
       "    </tr>\n",
       "    <tr>\n",
       "      <th>1</th>\n",
       "      <td>26711</td>\n",
       "      <td>Deborah</td>\n",
       "      <td>Esquivel</td>\n",
       "      <td>Female</td>\n",
       "      <td>Missouri</td>\n",
       "      <td>48</td>\n",
       "      <td>1/1/2017</td>\n",
       "      <td>3</td>\n",
       "      <td>married</td>\n",
       "      <td>165665</td>\n",
       "      <td>...</td>\n",
       "      <td>Regularly busy</td>\n",
       "      <td>Slowest days</td>\n",
       "      <td>Most Orders</td>\n",
       "      <td>8</td>\n",
       "      <td>New customer</td>\n",
       "      <td>8.205882</td>\n",
       "      <td>Low spender</td>\n",
       "      <td>19.823529</td>\n",
       "      <td>Regular customer</td>\n",
       "      <td>both</td>\n",
       "    </tr>\n",
       "    <tr>\n",
       "      <th>2</th>\n",
       "      <td>26711</td>\n",
       "      <td>Deborah</td>\n",
       "      <td>Esquivel</td>\n",
       "      <td>Female</td>\n",
       "      <td>Missouri</td>\n",
       "      <td>48</td>\n",
       "      <td>1/1/2017</td>\n",
       "      <td>3</td>\n",
       "      <td>married</td>\n",
       "      <td>165665</td>\n",
       "      <td>...</td>\n",
       "      <td>Regularly busy</td>\n",
       "      <td>Slowest days</td>\n",
       "      <td>Most Orders</td>\n",
       "      <td>8</td>\n",
       "      <td>New customer</td>\n",
       "      <td>8.205882</td>\n",
       "      <td>Low spender</td>\n",
       "      <td>19.823529</td>\n",
       "      <td>Regular customer</td>\n",
       "      <td>both</td>\n",
       "    </tr>\n",
       "    <tr>\n",
       "      <th>3</th>\n",
       "      <td>26711</td>\n",
       "      <td>Deborah</td>\n",
       "      <td>Esquivel</td>\n",
       "      <td>Female</td>\n",
       "      <td>Missouri</td>\n",
       "      <td>48</td>\n",
       "      <td>1/1/2017</td>\n",
       "      <td>3</td>\n",
       "      <td>married</td>\n",
       "      <td>165665</td>\n",
       "      <td>...</td>\n",
       "      <td>Regularly busy</td>\n",
       "      <td>Slowest days</td>\n",
       "      <td>Most Orders</td>\n",
       "      <td>8</td>\n",
       "      <td>New customer</td>\n",
       "      <td>8.205882</td>\n",
       "      <td>Low spender</td>\n",
       "      <td>19.823529</td>\n",
       "      <td>Regular customer</td>\n",
       "      <td>both</td>\n",
       "    </tr>\n",
       "    <tr>\n",
       "      <th>4</th>\n",
       "      <td>26711</td>\n",
       "      <td>Deborah</td>\n",
       "      <td>Esquivel</td>\n",
       "      <td>Female</td>\n",
       "      <td>Missouri</td>\n",
       "      <td>48</td>\n",
       "      <td>1/1/2017</td>\n",
       "      <td>3</td>\n",
       "      <td>married</td>\n",
       "      <td>165665</td>\n",
       "      <td>...</td>\n",
       "      <td>Regularly busy</td>\n",
       "      <td>Busiest days</td>\n",
       "      <td>Average Orders</td>\n",
       "      <td>8</td>\n",
       "      <td>New customer</td>\n",
       "      <td>8.205882</td>\n",
       "      <td>Low spender</td>\n",
       "      <td>19.823529</td>\n",
       "      <td>Regular customer</td>\n",
       "      <td>both</td>\n",
       "    </tr>\n",
       "  </tbody>\n",
       "</table>\n",
       "<p>5 rows × 33 columns</p>\n",
       "</div>"
      ],
      "text/plain": [
       "  user_id first_name last_name  gender     state  age date_joined  \\\n",
       "0   26711    Deborah  Esquivel  Female  Missouri   48    1/1/2017   \n",
       "1   26711    Deborah  Esquivel  Female  Missouri   48    1/1/2017   \n",
       "2   26711    Deborah  Esquivel  Female  Missouri   48    1/1/2017   \n",
       "3   26711    Deborah  Esquivel  Female  Missouri   48    1/1/2017   \n",
       "4   26711    Deborah  Esquivel  Female  Missouri   48    1/1/2017   \n",
       "\n",
       "   number_of_dependents marriage_status  income  ...     busiest_day  \\\n",
       "0                     3         married  165665  ...  Regularly busy   \n",
       "1                     3         married  165665  ...  Regularly busy   \n",
       "2                     3         married  165665  ...  Regularly busy   \n",
       "3                     3         married  165665  ...  Regularly busy   \n",
       "4                     3         married  165665  ...  Regularly busy   \n",
       "\n",
       "     busiest_days  busiest_period_of_day  max_order  loyalty_flag  avg_spent  \\\n",
       "0  Regularly busy         Average Orders          8  New customer   8.205882   \n",
       "1    Slowest days            Most Orders          8  New customer   8.205882   \n",
       "2    Slowest days            Most Orders          8  New customer   8.205882   \n",
       "3    Slowest days            Most Orders          8  New customer   8.205882   \n",
       "4    Busiest days         Average Orders          8  New customer   8.205882   \n",
       "\n",
       "   spending_flag  buy_frequency    frequency_flag  _merge  \n",
       "0    Low spender      19.823529  Regular customer    both  \n",
       "1    Low spender      19.823529  Regular customer    both  \n",
       "2    Low spender      19.823529  Regular customer    both  \n",
       "3    Low spender      19.823529  Regular customer    both  \n",
       "4    Low spender      19.823529  Regular customer    both  \n",
       "\n",
       "[5 rows x 33 columns]"
      ]
     },
     "execution_count": 9,
     "metadata": {},
     "output_type": "execute_result"
    }
   ],
   "source": [
    "orders_products_all.head()"
   ]
  },
  {
   "cell_type": "markdown",
   "id": "676f34f6-97e8-46bc-bd32-6df4c447d934",
   "metadata": {},
   "source": [
    "### Task #2 - Address any PII data"
   ]
  },
  {
   "cell_type": "code",
   "execution_count": 11,
   "id": "dc873e2d-75b5-4bb3-9b30-f714b573b80f",
   "metadata": {},
   "outputs": [
    {
     "data": {
      "text/plain": [
       "Index(['user_id', 'first_name', 'last_name', 'gender', 'state', 'age',\n",
       "       'date_joined', 'number_of_dependents', 'marriage_status', 'income',\n",
       "       'order_id', 'order_number', 'orders_day_of_week', 'hour_time_of_order',\n",
       "       'days_since_prior_order', 'product_id', 'add_to_cart_order',\n",
       "       'reordered', 'product_name', 'aisle_id', 'department_id', 'prices',\n",
       "       'price_range_loc', 'busiest_day', 'busiest_days',\n",
       "       'busiest_period_of_day', 'max_order', 'loyalty_flag', 'avg_spent',\n",
       "       'spending_flag', 'buy_frequency', 'frequency_flag', '_merge'],\n",
       "      dtype='object')"
      ]
     },
     "execution_count": 11,
     "metadata": {},
     "output_type": "execute_result"
    }
   ],
   "source": [
    "orders_products_all.columns"
   ]
  },
  {
   "cell_type": "code",
   "execution_count": null,
   "id": "a903e783-1d0d-4c1b-ba55-cd511fc789b3",
   "metadata": {},
   "outputs": [],
   "source": []
  },
  {
   "cell_type": "code",
   "execution_count": 12,
   "id": "f55262cc-2a99-43a9-9c65-9b8ecbeaa35f",
   "metadata": {},
   "outputs": [],
   "source": [
    "      #drop 'first_name' and 'last_name' columns"
   ]
  },
  {
   "cell_type": "code",
   "execution_count": 13,
   "id": "eb2f7add-6c15-4149-b090-8d95a360973f",
   "metadata": {},
   "outputs": [
    {
     "data": {
      "text/html": [
       "<div>\n",
       "<style scoped>\n",
       "    .dataframe tbody tr th:only-of-type {\n",
       "        vertical-align: middle;\n",
       "    }\n",
       "\n",
       "    .dataframe tbody tr th {\n",
       "        vertical-align: top;\n",
       "    }\n",
       "\n",
       "    .dataframe thead th {\n",
       "        text-align: right;\n",
       "    }\n",
       "</style>\n",
       "<table border=\"1\" class=\"dataframe\">\n",
       "  <thead>\n",
       "    <tr style=\"text-align: right;\">\n",
       "      <th></th>\n",
       "      <th>user_id</th>\n",
       "      <th>gender</th>\n",
       "      <th>state</th>\n",
       "      <th>age</th>\n",
       "      <th>date_joined</th>\n",
       "      <th>number_of_dependents</th>\n",
       "      <th>marriage_status</th>\n",
       "      <th>income</th>\n",
       "      <th>order_id</th>\n",
       "      <th>order_number</th>\n",
       "      <th>...</th>\n",
       "      <th>busiest_day</th>\n",
       "      <th>busiest_days</th>\n",
       "      <th>busiest_period_of_day</th>\n",
       "      <th>max_order</th>\n",
       "      <th>loyalty_flag</th>\n",
       "      <th>avg_spent</th>\n",
       "      <th>spending_flag</th>\n",
       "      <th>buy_frequency</th>\n",
       "      <th>frequency_flag</th>\n",
       "      <th>_merge</th>\n",
       "    </tr>\n",
       "  </thead>\n",
       "  <tbody>\n",
       "    <tr>\n",
       "      <th>0</th>\n",
       "      <td>26711</td>\n",
       "      <td>Female</td>\n",
       "      <td>Missouri</td>\n",
       "      <td>48</td>\n",
       "      <td>1/1/2017</td>\n",
       "      <td>3</td>\n",
       "      <td>married</td>\n",
       "      <td>165665</td>\n",
       "      <td>423547</td>\n",
       "      <td>2</td>\n",
       "      <td>...</td>\n",
       "      <td>Regularly busy</td>\n",
       "      <td>Regularly busy</td>\n",
       "      <td>Average Orders</td>\n",
       "      <td>8</td>\n",
       "      <td>New customer</td>\n",
       "      <td>8.205882</td>\n",
       "      <td>Low spender</td>\n",
       "      <td>19.823529</td>\n",
       "      <td>Regular customer</td>\n",
       "      <td>both</td>\n",
       "    </tr>\n",
       "    <tr>\n",
       "      <th>1</th>\n",
       "      <td>26711</td>\n",
       "      <td>Female</td>\n",
       "      <td>Missouri</td>\n",
       "      <td>48</td>\n",
       "      <td>1/1/2017</td>\n",
       "      <td>3</td>\n",
       "      <td>married</td>\n",
       "      <td>165665</td>\n",
       "      <td>2524893</td>\n",
       "      <td>3</td>\n",
       "      <td>...</td>\n",
       "      <td>Regularly busy</td>\n",
       "      <td>Slowest days</td>\n",
       "      <td>Most Orders</td>\n",
       "      <td>8</td>\n",
       "      <td>New customer</td>\n",
       "      <td>8.205882</td>\n",
       "      <td>Low spender</td>\n",
       "      <td>19.823529</td>\n",
       "      <td>Regular customer</td>\n",
       "      <td>both</td>\n",
       "    </tr>\n",
       "    <tr>\n",
       "      <th>2</th>\n",
       "      <td>26711</td>\n",
       "      <td>Female</td>\n",
       "      <td>Missouri</td>\n",
       "      <td>48</td>\n",
       "      <td>1/1/2017</td>\n",
       "      <td>3</td>\n",
       "      <td>married</td>\n",
       "      <td>165665</td>\n",
       "      <td>2524893</td>\n",
       "      <td>3</td>\n",
       "      <td>...</td>\n",
       "      <td>Regularly busy</td>\n",
       "      <td>Slowest days</td>\n",
       "      <td>Most Orders</td>\n",
       "      <td>8</td>\n",
       "      <td>New customer</td>\n",
       "      <td>8.205882</td>\n",
       "      <td>Low spender</td>\n",
       "      <td>19.823529</td>\n",
       "      <td>Regular customer</td>\n",
       "      <td>both</td>\n",
       "    </tr>\n",
       "    <tr>\n",
       "      <th>3</th>\n",
       "      <td>26711</td>\n",
       "      <td>Female</td>\n",
       "      <td>Missouri</td>\n",
       "      <td>48</td>\n",
       "      <td>1/1/2017</td>\n",
       "      <td>3</td>\n",
       "      <td>married</td>\n",
       "      <td>165665</td>\n",
       "      <td>2524893</td>\n",
       "      <td>3</td>\n",
       "      <td>...</td>\n",
       "      <td>Regularly busy</td>\n",
       "      <td>Slowest days</td>\n",
       "      <td>Most Orders</td>\n",
       "      <td>8</td>\n",
       "      <td>New customer</td>\n",
       "      <td>8.205882</td>\n",
       "      <td>Low spender</td>\n",
       "      <td>19.823529</td>\n",
       "      <td>Regular customer</td>\n",
       "      <td>both</td>\n",
       "    </tr>\n",
       "    <tr>\n",
       "      <th>4</th>\n",
       "      <td>26711</td>\n",
       "      <td>Female</td>\n",
       "      <td>Missouri</td>\n",
       "      <td>48</td>\n",
       "      <td>1/1/2017</td>\n",
       "      <td>3</td>\n",
       "      <td>married</td>\n",
       "      <td>165665</td>\n",
       "      <td>2984525</td>\n",
       "      <td>4</td>\n",
       "      <td>...</td>\n",
       "      <td>Regularly busy</td>\n",
       "      <td>Busiest days</td>\n",
       "      <td>Average Orders</td>\n",
       "      <td>8</td>\n",
       "      <td>New customer</td>\n",
       "      <td>8.205882</td>\n",
       "      <td>Low spender</td>\n",
       "      <td>19.823529</td>\n",
       "      <td>Regular customer</td>\n",
       "      <td>both</td>\n",
       "    </tr>\n",
       "    <tr>\n",
       "      <th>...</th>\n",
       "      <td>...</td>\n",
       "      <td>...</td>\n",
       "      <td>...</td>\n",
       "      <td>...</td>\n",
       "      <td>...</td>\n",
       "      <td>...</td>\n",
       "      <td>...</td>\n",
       "      <td>...</td>\n",
       "      <td>...</td>\n",
       "      <td>...</td>\n",
       "      <td>...</td>\n",
       "      <td>...</td>\n",
       "      <td>...</td>\n",
       "      <td>...</td>\n",
       "      <td>...</td>\n",
       "      <td>...</td>\n",
       "      <td>...</td>\n",
       "      <td>...</td>\n",
       "      <td>...</td>\n",
       "      <td>...</td>\n",
       "      <td>...</td>\n",
       "    </tr>\n",
       "    <tr>\n",
       "      <th>30328758</th>\n",
       "      <td>80148</td>\n",
       "      <td>Female</td>\n",
       "      <td>New York</td>\n",
       "      <td>55</td>\n",
       "      <td>4/1/2020</td>\n",
       "      <td>1</td>\n",
       "      <td>married</td>\n",
       "      <td>57095</td>\n",
       "      <td>2859858</td>\n",
       "      <td>3</td>\n",
       "      <td>...</td>\n",
       "      <td>Regularly busy</td>\n",
       "      <td>Regularly busy</td>\n",
       "      <td>Most Orders</td>\n",
       "      <td>4</td>\n",
       "      <td>New customer</td>\n",
       "      <td>4.078571</td>\n",
       "      <td>Low spender</td>\n",
       "      <td>11.071429</td>\n",
       "      <td>Regular customer</td>\n",
       "      <td>both</td>\n",
       "    </tr>\n",
       "    <tr>\n",
       "      <th>30328759</th>\n",
       "      <td>80148</td>\n",
       "      <td>Female</td>\n",
       "      <td>New York</td>\n",
       "      <td>55</td>\n",
       "      <td>4/1/2020</td>\n",
       "      <td>1</td>\n",
       "      <td>married</td>\n",
       "      <td>57095</td>\n",
       "      <td>2859858</td>\n",
       "      <td>3</td>\n",
       "      <td>...</td>\n",
       "      <td>Regularly busy</td>\n",
       "      <td>Regularly busy</td>\n",
       "      <td>Most Orders</td>\n",
       "      <td>4</td>\n",
       "      <td>New customer</td>\n",
       "      <td>4.078571</td>\n",
       "      <td>Low spender</td>\n",
       "      <td>11.071429</td>\n",
       "      <td>Regular customer</td>\n",
       "      <td>both</td>\n",
       "    </tr>\n",
       "    <tr>\n",
       "      <th>30328760</th>\n",
       "      <td>80148</td>\n",
       "      <td>Female</td>\n",
       "      <td>New York</td>\n",
       "      <td>55</td>\n",
       "      <td>4/1/2020</td>\n",
       "      <td>1</td>\n",
       "      <td>married</td>\n",
       "      <td>57095</td>\n",
       "      <td>2859858</td>\n",
       "      <td>3</td>\n",
       "      <td>...</td>\n",
       "      <td>Regularly busy</td>\n",
       "      <td>Regularly busy</td>\n",
       "      <td>Most Orders</td>\n",
       "      <td>4</td>\n",
       "      <td>New customer</td>\n",
       "      <td>4.078571</td>\n",
       "      <td>Low spender</td>\n",
       "      <td>11.071429</td>\n",
       "      <td>Regular customer</td>\n",
       "      <td>both</td>\n",
       "    </tr>\n",
       "    <tr>\n",
       "      <th>30328761</th>\n",
       "      <td>80148</td>\n",
       "      <td>Female</td>\n",
       "      <td>New York</td>\n",
       "      <td>55</td>\n",
       "      <td>4/1/2020</td>\n",
       "      <td>1</td>\n",
       "      <td>married</td>\n",
       "      <td>57095</td>\n",
       "      <td>3209855</td>\n",
       "      <td>4</td>\n",
       "      <td>...</td>\n",
       "      <td>Regularly busy</td>\n",
       "      <td>Regularly busy</td>\n",
       "      <td>Average Orders</td>\n",
       "      <td>4</td>\n",
       "      <td>New customer</td>\n",
       "      <td>4.078571</td>\n",
       "      <td>Low spender</td>\n",
       "      <td>11.071429</td>\n",
       "      <td>Regular customer</td>\n",
       "      <td>both</td>\n",
       "    </tr>\n",
       "    <tr>\n",
       "      <th>30328762</th>\n",
       "      <td>80148</td>\n",
       "      <td>Female</td>\n",
       "      <td>New York</td>\n",
       "      <td>55</td>\n",
       "      <td>4/1/2020</td>\n",
       "      <td>1</td>\n",
       "      <td>married</td>\n",
       "      <td>57095</td>\n",
       "      <td>3209855</td>\n",
       "      <td>4</td>\n",
       "      <td>...</td>\n",
       "      <td>Regularly busy</td>\n",
       "      <td>Regularly busy</td>\n",
       "      <td>Average Orders</td>\n",
       "      <td>4</td>\n",
       "      <td>New customer</td>\n",
       "      <td>4.078571</td>\n",
       "      <td>Low spender</td>\n",
       "      <td>11.071429</td>\n",
       "      <td>Regular customer</td>\n",
       "      <td>both</td>\n",
       "    </tr>\n",
       "  </tbody>\n",
       "</table>\n",
       "<p>30328763 rows × 31 columns</p>\n",
       "</div>"
      ],
      "text/plain": [
       "         user_id  gender     state  age date_joined  number_of_dependents  \\\n",
       "0          26711  Female  Missouri   48    1/1/2017                     3   \n",
       "1          26711  Female  Missouri   48    1/1/2017                     3   \n",
       "2          26711  Female  Missouri   48    1/1/2017                     3   \n",
       "3          26711  Female  Missouri   48    1/1/2017                     3   \n",
       "4          26711  Female  Missouri   48    1/1/2017                     3   \n",
       "...          ...     ...       ...  ...         ...                   ...   \n",
       "30328758   80148  Female  New York   55    4/1/2020                     1   \n",
       "30328759   80148  Female  New York   55    4/1/2020                     1   \n",
       "30328760   80148  Female  New York   55    4/1/2020                     1   \n",
       "30328761   80148  Female  New York   55    4/1/2020                     1   \n",
       "30328762   80148  Female  New York   55    4/1/2020                     1   \n",
       "\n",
       "         marriage_status  income order_id  order_number  ...     busiest_day  \\\n",
       "0                married  165665   423547             2  ...  Regularly busy   \n",
       "1                married  165665  2524893             3  ...  Regularly busy   \n",
       "2                married  165665  2524893             3  ...  Regularly busy   \n",
       "3                married  165665  2524893             3  ...  Regularly busy   \n",
       "4                married  165665  2984525             4  ...  Regularly busy   \n",
       "...                  ...     ...      ...           ...  ...             ...   \n",
       "30328758         married   57095  2859858             3  ...  Regularly busy   \n",
       "30328759         married   57095  2859858             3  ...  Regularly busy   \n",
       "30328760         married   57095  2859858             3  ...  Regularly busy   \n",
       "30328761         married   57095  3209855             4  ...  Regularly busy   \n",
       "30328762         married   57095  3209855             4  ...  Regularly busy   \n",
       "\n",
       "            busiest_days  busiest_period_of_day  max_order  loyalty_flag  \\\n",
       "0         Regularly busy         Average Orders          8  New customer   \n",
       "1           Slowest days            Most Orders          8  New customer   \n",
       "2           Slowest days            Most Orders          8  New customer   \n",
       "3           Slowest days            Most Orders          8  New customer   \n",
       "4           Busiest days         Average Orders          8  New customer   \n",
       "...                  ...                    ...        ...           ...   \n",
       "30328758  Regularly busy            Most Orders          4  New customer   \n",
       "30328759  Regularly busy            Most Orders          4  New customer   \n",
       "30328760  Regularly busy            Most Orders          4  New customer   \n",
       "30328761  Regularly busy         Average Orders          4  New customer   \n",
       "30328762  Regularly busy         Average Orders          4  New customer   \n",
       "\n",
       "          avg_spent spending_flag  buy_frequency    frequency_flag  _merge  \n",
       "0          8.205882   Low spender      19.823529  Regular customer    both  \n",
       "1          8.205882   Low spender      19.823529  Regular customer    both  \n",
       "2          8.205882   Low spender      19.823529  Regular customer    both  \n",
       "3          8.205882   Low spender      19.823529  Regular customer    both  \n",
       "4          8.205882   Low spender      19.823529  Regular customer    both  \n",
       "...             ...           ...            ...               ...     ...  \n",
       "30328758   4.078571   Low spender      11.071429  Regular customer    both  \n",
       "30328759   4.078571   Low spender      11.071429  Regular customer    both  \n",
       "30328760   4.078571   Low spender      11.071429  Regular customer    both  \n",
       "30328761   4.078571   Low spender      11.071429  Regular customer    both  \n",
       "30328762   4.078571   Low spender      11.071429  Regular customer    both  \n",
       "\n",
       "[30328763 rows x 31 columns]"
      ]
     },
     "execution_count": 13,
     "metadata": {},
     "output_type": "execute_result"
    }
   ],
   "source": [
    "orders_products_all.drop(columns = ['first_name', 'last_name'])"
   ]
  },
  {
   "cell_type": "markdown",
   "id": "d66ff67c-15b1-4533-a4a6-71fbd983d25c",
   "metadata": {},
   "source": [
    "### Task #3 - Compare customers' spending habits in different regions of the US"
   ]
  },
  {
   "cell_type": "markdown",
   "id": "c0a5d6db-d1cb-4f96-877a-02455be5026a",
   "metadata": {},
   "source": [
    "#### 3.1 Create a 'region' column"
   ]
  },
  {
   "cell_type": "markdown",
   "id": "00b0491e-6e48-4f37-ad66-a425c96adde5",
   "metadata": {},
   "source": [
    "3.1.1 Define a 'region'"
   ]
  },
  {
   "cell_type": "code",
   "execution_count": null,
   "id": "3a65fac0-fb67-456a-a090-257fac0bdf14",
   "metadata": {},
   "outputs": [],
   "source": []
  },
  {
   "cell_type": "code",
   "execution_count": 17,
   "id": "bfa06550-9607-4ae6-b019-aef9aa4a4435",
   "metadata": {},
   "outputs": [],
   "source": [
    "northeast_states = ['Connecticut', 'Maine', 'Massachusetts', 'New Hampshire', 'New Jersey', 'New York', 'Pennsylvania', 'Rhode Island', 'Vermont' ]"
   ]
  },
  {
   "cell_type": "code",
   "execution_count": 18,
   "id": "f7cf8c96-25fb-414c-b206-7e4c727186ec",
   "metadata": {},
   "outputs": [],
   "source": [
    "midwest_states = ['Wisconsin', 'Michigan', 'Illinois', 'Indiana', 'Ohio', 'North Dakota', 'South Dakota', 'Nebraska', 'Kansas', 'Minnesota', 'Iowa', 'Missouri']"
   ]
  },
  {
   "cell_type": "code",
   "execution_count": 19,
   "id": "4512f620-f7a0-4967-bb26-45821f657d6d",
   "metadata": {},
   "outputs": [],
   "source": [
    "south_states = ['Delaware', 'Maryland', 'District of Columbia', 'Virginia', 'West Virginia', 'North Carolina', 'South Carolina', 'Georgia', 'Florida', 'Kentucky', 'Tennessee', 'Mississippi', 'Alabama', 'Oklahoma', 'Texas', 'Arkansas', 'Louisiana']"
   ]
  },
  {
   "cell_type": "code",
   "execution_count": 20,
   "id": "792ba47b-5559-4e71-a347-b44a7ef23934",
   "metadata": {},
   "outputs": [],
   "source": [
    "west_states = ['Idaho', 'Montana', 'Wyoming', 'Nevada', 'Utah', 'Colorado', 'Arizona', 'New Mexico', 'Alaska', 'Washington', 'Oregon', 'California', 'Hawaii']"
   ]
  },
  {
   "cell_type": "code",
   "execution_count": null,
   "id": "6cd617bc-4303-4f2c-a056-d8a1aa0a89d6",
   "metadata": {},
   "outputs": [],
   "source": []
  },
  {
   "cell_type": "markdown",
   "id": "99cf41a9-eb49-4740-9c59-fc5bfdc5b74a",
   "metadata": {},
   "source": [
    "3.1.2 Create column 'result' to put results of for-loop"
   ]
  },
  {
   "cell_type": "code",
   "execution_count": null,
   "id": "dc4a43bc-f9a9-476c-aeee-949ca5f55b1b",
   "metadata": {},
   "outputs": [],
   "source": []
  },
  {
   "cell_type": "code",
   "execution_count": 22,
   "id": "d00c7ff8-2d40-41d8-b22e-f553c57eda98",
   "metadata": {},
   "outputs": [],
   "source": [
    "result = []"
   ]
  },
  {
   "cell_type": "code",
   "execution_count": 23,
   "id": "896b0498-dff3-456b-982f-7ce6342313f3",
   "metadata": {
    "scrolled": true
   },
   "outputs": [],
   "source": [
    "for value in orders_products_all['state']: \n",
    "    if value in northeast_states:\n",
    "        result.append('Northeast')\n",
    "    elif value in midwest_states:\n",
    "        result.append('Midwest')\n",
    "    elif value in south_states:\n",
    "        result.append('South')\n",
    "    elif value in west_states:\n",
    "        result.append('West')\n",
    "    else:\n",
    "       result.append('No region assigned') "
   ]
  },
  {
   "cell_type": "code",
   "execution_count": null,
   "id": "2405c908-c07f-43c5-97ee-61d8846af582",
   "metadata": {},
   "outputs": [],
   "source": []
  },
  {
   "cell_type": "markdown",
   "id": "3572fc4d-4c13-41b2-9197-2e808882e89a",
   "metadata": {},
   "source": [
    "3.1.3 Create new column 'region' and assign result list to it"
   ]
  },
  {
   "cell_type": "code",
   "execution_count": null,
   "id": "02f53dea-73fe-46a2-ba97-fa12c2b1fcfb",
   "metadata": {},
   "outputs": [],
   "source": []
  },
  {
   "cell_type": "code",
   "execution_count": 25,
   "id": "b9b26cb5-e66d-4e79-b3d3-2dd466de944c",
   "metadata": {},
   "outputs": [],
   "source": [
    "orders_products_all['region'] = result"
   ]
  },
  {
   "cell_type": "code",
   "execution_count": 26,
   "id": "9e10a569-4aab-4787-8336-748dc335a6eb",
   "metadata": {},
   "outputs": [],
   "source": [
    "      #check frequency count of 4 regions"
   ]
  },
  {
   "cell_type": "code",
   "execution_count": 27,
   "id": "636b6618-fb63-4cbc-8006-b30ca6701740",
   "metadata": {},
   "outputs": [
    {
     "data": {
      "text/plain": [
       "region\n",
       "South        10099817\n",
       "West          7765088\n",
       "Midwest       7107586\n",
       "Northeast     5356272\n",
       "Name: count, dtype: int64"
      ]
     },
     "execution_count": 27,
     "metadata": {},
     "output_type": "execute_result"
    }
   ],
   "source": [
    "orders_products_all['region'].value_counts()"
   ]
  },
  {
   "cell_type": "code",
   "execution_count": 28,
   "id": "45d678d0-5576-4198-91d9-8462916f6f1b",
   "metadata": {},
   "outputs": [],
   "source": [
    "### Find difference in spending habits between different US regions"
   ]
  },
  {
   "cell_type": "code",
   "execution_count": 29,
   "id": "5b1502d4-a001-41be-8f88-2fc79caf85a8",
   "metadata": {},
   "outputs": [],
   "source": [
    "      #Create a crosstab between the 'region' column and 'spending_column' to view table"
   ]
  },
  {
   "cell_type": "code",
   "execution_count": 30,
   "id": "304e30d4-a15d-41f4-92ab-3710bfaa7c74",
   "metadata": {},
   "outputs": [],
   "source": [
    "crosstab = pd.crosstab(orders_products_all['region'], orders_products_all['spending_flag'], dropna = False)"
   ]
  },
  {
   "cell_type": "code",
   "execution_count": 31,
   "id": "75a225e6-7245-4e9b-8c18-b3bc41a45834",
   "metadata": {},
   "outputs": [],
   "source": [
    "      #Print crosstab table"
   ]
  },
  {
   "cell_type": "code",
   "execution_count": 32,
   "id": "0a9c6b8f-4b06-4909-9956-c77db80fee61",
   "metadata": {},
   "outputs": [
    {
     "name": "stdout",
     "output_type": "stream",
     "text": [
      "spending_flag  High spender  Low spender\n",
      "region                                  \n",
      "Midwest               29975      7077611\n",
      "Northeast             19217      5337055\n",
      "South                 40593     10059224\n",
      "West                  31312      7733776\n"
     ]
    }
   ],
   "source": [
    "print(crosstab)"
   ]
  },
  {
   "cell_type": "markdown",
   "id": "a7d2c6a2-7e04-43b9-9990-0e7664841b74",
   "metadata": {},
   "source": [
    "### Task #4 Create new dataframe that excludes low-activity customers"
   ]
  },
  {
   "cell_type": "markdown",
   "id": "802b19da-ad6e-4c8f-a28f-2d5d36c3cffd",
   "metadata": {},
   "source": [
    "#### 4.1 Create exclusion flag for customers with less than 5 orders"
   ]
  },
  {
   "cell_type": "code",
   "execution_count": 35,
   "id": "ce123dc6-62a5-419a-a375-ba44ee068f41",
   "metadata": {},
   "outputs": [],
   "source": [
    "         #create column 'result' to put results of for-loop"
   ]
  },
  {
   "cell_type": "code",
   "execution_count": 36,
   "id": "d890b3ed-bcbf-470e-afd3-59840f85236a",
   "metadata": {},
   "outputs": [],
   "source": [
    "result = []"
   ]
  },
  {
   "cell_type": "code",
   "execution_count": 37,
   "id": "66fe3875-70eb-4837-9595-3351281fe03f",
   "metadata": {},
   "outputs": [],
   "source": [
    "for value in orders_products_all['max_order']: \n",
    "    if value < 5:\n",
    "        result.append('low_activity')\n",
    "    else:\n",
    "       result.append('high_activity')"
   ]
  },
  {
   "cell_type": "code",
   "execution_count": 38,
   "id": "70a14824-3ea2-49e2-b6e7-7816513b71af",
   "metadata": {},
   "outputs": [],
   "source": [
    "    #create new column 'customer_activity_flag'"
   ]
  },
  {
   "cell_type": "code",
   "execution_count": 39,
   "id": "df36893e-ff0f-459e-b47f-3190c2236a6c",
   "metadata": {},
   "outputs": [],
   "source": [
    "orders_products_all['customer_activity_flag'] = result"
   ]
  },
  {
   "cell_type": "code",
   "execution_count": 40,
   "id": "eff57250-1bbe-4ae3-9bd6-bb526698b970",
   "metadata": {},
   "outputs": [],
   "source": [
    "     #check frequency count of 4 regions"
   ]
  },
  {
   "cell_type": "code",
   "execution_count": 41,
   "id": "3039960d-de52-43d0-9112-c796b6aa62f4",
   "metadata": {},
   "outputs": [
    {
     "data": {
      "text/plain": [
       "customer_activity_flag\n",
       "high_activity    29303281\n",
       "low_activity      1025482\n",
       "Name: count, dtype: int64"
      ]
     },
     "execution_count": 41,
     "metadata": {},
     "output_type": "execute_result"
    }
   ],
   "source": [
    "orders_products_all['customer_activity_flag'].value_counts()"
   ]
  },
  {
   "cell_type": "markdown",
   "id": "8463aa8b-5824-4e5f-87de-cfb51e9fde3c",
   "metadata": {},
   "source": [
    "#### 4.2 Create df without 'low-activity' rows"
   ]
  },
  {
   "cell_type": "code",
   "execution_count": 43,
   "id": "ac3cfe3f-d4dc-40e7-8871-7507df3689a4",
   "metadata": {},
   "outputs": [],
   "source": [
    "orders_products_high = orders_products_all[orders_products_all['customer_activity_flag'] == 'high_activity']"
   ]
  },
  {
   "cell_type": "code",
   "execution_count": 44,
   "id": "5f25dbb0-8d9f-40f7-b089-71652a3798c8",
   "metadata": {},
   "outputs": [],
   "source": [
    "     #Check rows in new df orders_products_high\n",
    "     #Rows should equal high_activity frequency count"
   ]
  },
  {
   "cell_type": "code",
   "execution_count": 45,
   "id": "a6652266-2d15-43a0-ba2c-1904ecb8a78c",
   "metadata": {},
   "outputs": [
    {
     "data": {
      "text/plain": [
       "(29303281, 35)"
      ]
     },
     "execution_count": 45,
     "metadata": {},
     "output_type": "execute_result"
    }
   ],
   "source": [
    "orders_products_high.shape"
   ]
  },
  {
   "cell_type": "markdown",
   "id": "7f73a0bc-dbb9-4106-8e3e-35f7989d6123",
   "metadata": {},
   "source": [
    "#### 4.3 Export new df  orders_products_high"
   ]
  },
  {
   "cell_type": "code",
   "execution_count": 47,
   "id": "a4d3cf4c-f0fe-4a2c-a4b1-9fd9b2e255fd",
   "metadata": {},
   "outputs": [],
   "source": [
    "#Export the updated dataframe as a pickle file\n",
    "orders_products_high.to_pickle(os.path.join(path, '02 Data', 'Prepared', 'orders_products_high410a.pkl'))"
   ]
  },
  {
   "cell_type": "code",
   "execution_count": null,
   "id": "b287acb8-ac52-4b91-b6af-96c9a2c9fb91",
   "metadata": {},
   "outputs": [],
   "source": []
  }
 ],
 "metadata": {
  "kernelspec": {
   "display_name": "Python 3 (ipykernel)",
   "language": "python",
   "name": "python3"
  },
  "language_info": {
   "codemirror_mode": {
    "name": "ipython",
    "version": 3
   },
   "file_extension": ".py",
   "mimetype": "text/x-python",
   "name": "python",
   "nbconvert_exporter": "python",
   "pygments_lexer": "ipython3",
   "version": "3.12.4"
  }
 },
 "nbformat": 4,
 "nbformat_minor": 5
}
